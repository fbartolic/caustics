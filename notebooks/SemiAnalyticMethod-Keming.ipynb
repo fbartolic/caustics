{
 "cells": [
  {
   "cell_type": "code",
   "execution_count": 1,
   "metadata": {},
   "outputs": [],
   "source": [
    "from functools import partial\n",
    "\n",
    "from jax.config import config\n",
    "config.update(\"jax_enable_x64\", True)\n",
    "config.update('jax_platform_name', 'cpu')\n",
    "import jax.numpy as jnp\n",
    "from jax import jit, lax, random, vmap\n",
    "\n",
    "from caustics.ehrlich_aberth_primitive import poly_roots\n",
    "from caustics.point_source_magnification import _poly_coeffs_binary\n",
    "from caustics import critical_and_caustic_curves\n",
    "\n",
    "import matplotlib\n",
    "import matplotlib.pyplot as plt\n",
    "\n",
    "%matplotlib inline\n",
    "%config InlineBackend.figure_format='retina'"
   ]
  },
  {
   "cell_type": "code",
   "execution_count": 2,
   "metadata": {},
   "outputs": [],
   "source": [
    "@jit\n",
    "def single_quadratic(a0, b0, c0):\n",
    "    ''' Analytical solver for a single quadratic equation\n",
    "    (2nd order polynomial).\n",
    "    Parameters\n",
    "    ----------\n",
    "    a0, b0, c0: array_like\n",
    "        Input data are coefficients of the Quadratic polynomial::\n",
    "            a0*x^2 + b0*x + c0 = 0\n",
    "    Returns\n",
    "    -------\n",
    "    r1, r2: tuple\n",
    "        Output data is a tuple of two roots of a given polynomial.\n",
    "    '''\n",
    "    ''' Reduce the quadratic equation to to form:\n",
    "        x^2 + ax + b = 0'''\n",
    "    a, b = b0 / a0, c0 / a0\n",
    "\n",
    "    # Some repeating variables\n",
    "    a0 = -0.5*a\n",
    "    delta = a0*a0 - b\n",
    "    sqrt_delta = jnp.sqrt(delta+0j)\n",
    "\n",
    "    # Roots\n",
    "    r1 = a0 - sqrt_delta\n",
    "    r2 = a0 + sqrt_delta\n",
    "\n",
    "    return r1, r2\n",
    "\n",
    "@jit\n",
    "def single_cubic_one(a, b, c, d):\n",
    "    third = 1./3.\n",
    "    d0 = b*b-3*a*c\n",
    "    d1 = 2*b*b*b-9*a*b*c+27*a*a*d\n",
    "    d2 = jnp.sqrt(d1*d1-4*d0*d0*d0+0j)\n",
    "    \n",
    "    d3 = jnp.where(d2==d1, d1 + d2, d1 - d2)\n",
    "    \n",
    "    C = (d3/2)**third\n",
    "    d4 = jnp.where((C == 0)*(d0 == 0), 0, d0/C)\n",
    "\n",
    "    return -1/3/a*(b+C+d4)\n",
    "\n",
    "\n",
    "@jit\n",
    "def single_quartic(a0, b0, c0, d0, e0):\n",
    "    ''' Analytical closed-form solver for a single quartic equation\n",
    "    (4th order polynomial). Calls `single_cubic_one` and\n",
    "    `single quadratic`.\n",
    "    Parameters\n",
    "    ----------\n",
    "    a0, b0, c0, d0, e0: array_like\n",
    "        Input data are coefficients of the Quartic polynomial::\n",
    "        a0*x^4 + b0*x^3 + c0*x^2 + d0*x + e0 = 0\n",
    "    Returns\n",
    "    -------\n",
    "    r1, r2, r3, r4: tuple\n",
    "        Output data is a tuple of four roots of given polynomial.\n",
    "    '''\n",
    "\n",
    "    ''' Reduce the quartic equation to to form:\n",
    "        x^4 + a*x^3 + b*x^2 + c*x + d = 0'''\n",
    "    a, b, c, d = b0/a0, c0/a0, d0/a0, e0/a0\n",
    "\n",
    "    # Some repeating variables\n",
    "    a0 = 0.25*a\n",
    "    a02 = a0*a0\n",
    "\n",
    "    # Coefficients of subsidiary cubic equation \n",
    "    p = 3*a02 - 0.5*b\n",
    "    q = a*a02 - b*a0 + 0.5*c\n",
    "    r = 3*a02*a02 - b*a02 + c*a0 - d\n",
    "\n",
    "    # One root of the cubic equation\n",
    "    z0 = single_cubic_one(1, p, r, p*r - 0.5*q*q)\n",
    "\n",
    "    # Additional variables\n",
    "    s = jnp.sqrt(2*p + 2*z0 + 0j)\n",
    "    t = jnp.where(s==0, z0*z0 + r, -q/s)\n",
    "\n",
    "    # Compute roots by quadratic equations\n",
    "    r0, r1 = single_quadratic(1, s, z0 + t)\n",
    "    r2, r3 = single_quadratic(1, -s, z0 - t)\n",
    "\n",
    "    return jnp.array([r0 - a0, r1 - a0, r2 - a0, r3 - a0])\n",
    "\n",
    "@jit\n",
    "def newton_update(z, coeffs):\n",
    "    return z - jnp.polyval(coeffs, z) / jnp.polyval(jnp.polyder(coeffs), z)\n",
    "\n",
    "@partial(jit, static_argnames=(\"niter\"))\n",
    "def find_isolated_root(w, a, e1, niter=50):\n",
    "    coeffs5 = _poly_coeffs_binary(w, a, e1)\n",
    "    \n",
    "    # Coordinate origin to primary\n",
    "    w = (w + a) / (1 - e1)**0.5\n",
    "    \n",
    "    # Initial guess for the isolated root \n",
    "    w_abs_sq = w.real**2 + w.imag**2\n",
    "    z1 = 0.5 * w * (1.0 + jnp.sqrt(1 + 4 / w_abs_sq))\n",
    "    z2 = 0.5 * w * (1.0 - jnp.sqrt(1 + 4 / w_abs_sq))\n",
    "    z_init = jnp.where(w.real < 0., z1, z2)\n",
    "    z_init = z_init * (1 - e1)**0.5 - a\n",
    "\n",
    "    # Find isolated root using Newton's method\n",
    "    def body_fn(z, _):\n",
    "        z = newton_update(z, coeffs5)\n",
    "        return z, 0\n",
    "\n",
    "    z_final, _ = lax.scan(body_fn, z_init, None, length=niter)\n",
    "\n",
    "    return z_final\n",
    "\n",
    "@jit\n",
    "def roots_of_fourth_order_poly(a, e1, w, z0):\n",
    "    \"\"\"Solve for the roots of the 4th order complex polynomial.\"\"\"\n",
    "    # evaluate reduced quartic polynomial in closed-form\n",
    "    \n",
    "    q = e1 / (1 - e1) \n",
    "    \n",
    "    s = 2 * a / (1 - e1)**0.5\n",
    "    w = (w + a) / (1 - e1)**0.5\n",
    "    z0 = (z0 + a) / (1 - e1)**0.5\n",
    "\n",
    "    wbar = jnp.conjugate(w)\n",
    "\n",
    "    coeff0 = -((s**3-2*z0-4*s**2*z0+s*(2+3*z0**2))*w)+\\\n",
    "            2*q**2*z0*(-s+w)+\\\n",
    "            q*(4*z0*w+s**2*(1-3*z0**2+2*z0*w)+\\\n",
    "            s*(-2*z0+4*z0**3-2*w-3*z0**2*w))+(-2*(1+\\\n",
    "            q)*z0**2*(2*z0-3*w)+s**3*z0*(3*z0-2*w)+\\\n",
    "            s*z0*(6*z0+5*z0**3-4*(2+q)*w-4*z0**2*w)+\\\n",
    "            2*s**2*((-1+q)*z0-4*z0**3+w+\\\n",
    "            3*z0**2*w))*wbar-(s-z0)*z0*(3*s*z0-\\\n",
    "            5*z0**2-2*s*w+4*z0*w)*wbar**2\n",
    "                \n",
    "    coeff1 = (1+2*s**2-3*s*z0)*w+q**2*(-s+w)+\\\n",
    "            q*(2*w+s**2*(-3*z0+w)+\\\n",
    "            s*(-1+6*z0**2-3*z0*w))+(-6*(1+q)*z0*(z0-w)+\\\n",
    "            s**3*(3*z0-w)+s**2*(-1+q-12*z0**2+6*z0*w)+\\\n",
    "            2*s*(3*z0+5*z0**3-(2+q)*w-\\\n",
    "            3*z0**2*w))*wbar+(6*s*z0*(2*z0-w)\\\n",
    "            +s**2*(-3*z0+w)+\\\n",
    "            2*z0**2*(-5*z0+3*w))*wbar**2\n",
    "    \n",
    "    coeff2 = -s*(w+q*(s-4*z0+w))+(s**3-\\\n",
    "            2*(1+q)*(2*z0-w)+s**2*(-8*z0+2*w)+\\\n",
    "            2*s*(1+5*z0**2-2*z0*w))*wbar-(s**2-\\\n",
    "            8*s*z0+10*z0**2+2*s*w-\\\n",
    "            4*z0*w)*wbar**2\n",
    "                \n",
    "    coeff3 = q*s-(1+q+2*s**2-5*s*z0+\\\n",
    "            s*w)*wbar+(2*s-\\\n",
    "            5*z0+w)*wbar**2\n",
    "\n",
    "    coeff4 = s*wbar-wbar**2\n",
    "    \n",
    "    coeffs = jnp.array([coeff0, coeff1, coeff2, coeff3, coeff4])\n",
    "    \n",
    "    z = single_quartic(*list(coeffs[::-1])) + z0\n",
    "\n",
    "    return z * (1 - e1)**0.5 - a\n",
    "\n",
    "@partial(jit, static_argnames=(\"niter\"))\n",
    "def roots_semi_analytic(w, a, e1, niter=100):\n",
    "    z_isolated = find_isolated_root(w, a, e1, niter=niter)\n",
    "    z_other = roots_of_fourth_order_poly(a, e1, w, z_isolated)\n",
    "    return jnp.concatenate([jnp.atleast_1d(z_isolated), z_other])\n"
   ]
  },
  {
   "cell_type": "code",
   "execution_count": 3,
   "metadata": {},
   "outputs": [
    {
     "data": {
      "text/plain": [
       "(200,)"
      ]
     },
     "execution_count": 3,
     "metadata": {},
     "output_type": "execute_result"
    }
   ],
   "source": [
    "a = 0.45\n",
    "e1 = 0.05\n",
    "\n",
    "key = random.PRNGKey(42)\n",
    "key, subkey1, subkey2 = random.split(key, num=3)\n",
    "\n",
    "# Generate random test points near the caustics\n",
    "rho = 1e-03\n",
    "critical_curves, caustic_curves = critical_and_caustic_curves(\n",
    "    nlenses=2, npts=50, a=a, e1=e1, \n",
    ")\n",
    "\n",
    "w_test = (\n",
    "    caustic_curves\n",
    "    + random.uniform(subkey1, caustic_curves.shape, minval=-0.1 * rho, maxval=0.1 * rho)\n",
    "    + 1j\n",
    "    * random.uniform(subkey2, caustic_curves.shape, minval=-0.1 * rho, maxval=0.1 * rho)\n",
    ")\n",
    "w_test.shape"
   ]
  },
  {
   "cell_type": "code",
   "execution_count": 4,
   "metadata": {},
   "outputs": [
    {
     "data": {
      "text/plain": [
       "(200, 6)"
      ]
     },
     "execution_count": 4,
     "metadata": {},
     "output_type": "execute_result"
    }
   ],
   "source": [
    "coeffs_stacked = vmap(lambda w: _poly_coeffs_binary(w, a, e1))(w_test)\n",
    "coeffs_stacked.shape"
   ]
  },
  {
   "cell_type": "code",
   "execution_count": 5,
   "metadata": {},
   "outputs": [
    {
     "data": {
      "text/plain": [
       "(200, 5)"
      ]
     },
     "execution_count": 5,
     "metadata": {},
     "output_type": "execute_result"
    }
   ],
   "source": [
    "# Aberth-Ehrlich\n",
    "roots1 = poly_roots(coeffs_stacked).sort(axis=1)\n",
    "roots1.shape"
   ]
  },
  {
   "cell_type": "code",
   "execution_count": 6,
   "metadata": {},
   "outputs": [
    {
     "data": {
      "text/plain": [
       "(200, 5)"
      ]
     },
     "execution_count": 6,
     "metadata": {},
     "output_type": "execute_result"
    }
   ],
   "source": [
    "# Semi-Analytic\n",
    "roots2 = vmap(lambda w: roots_semi_analytic(w, a, e1, niter=15))(w_test)\n",
    "roots2 = roots2.sort(axis=1)\n",
    "roots2.shape"
   ]
  },
  {
   "cell_type": "code",
   "execution_count": 7,
   "metadata": {},
   "outputs": [
    {
     "data": {
      "text/plain": [
       "[<matplotlib.lines.Line2D at 0x7fc8717e7710>]"
      ]
     },
     "execution_count": 7,
     "metadata": {},
     "output_type": "execute_result"
    },
    {
     "data": {
      "image/png": "[encoded data removed]",
      "text/plain": [
       "<Figure size 432x288 with 1 Axes>"
      ]
     },
     "metadata": {
      "image/png": {
       "height": 258,
       "width": 370
      },
      "needs_background": "light"
     },
     "output_type": "display_data"
    }
   ],
   "source": [
    "import matplotlib.pyplot as plt\n",
    "plt.plot((roots1 - roots2).reshape(-1))"
   ]
  },
  {
   "cell_type": "code",
   "execution_count": 8,
   "metadata": {},
   "outputs": [
    {
     "name": "stdout",
     "output_type": "stream",
     "text": [
      "704 µs ± 8.82 µs per loop (mean ± std. dev. of 7 runs, 1000 loops each)\n"
     ]
    }
   ],
   "source": [
    "%%timeit\n",
    "roots1 = poly_roots(coeffs_stacked).block_until_ready()"
   ]
  },
  {
   "cell_type": "code",
   "execution_count": 17,
   "metadata": {},
   "outputs": [
    {
     "name": "stdout",
     "output_type": "stream",
     "text": [
      "974 µs ± 75.5 µs per loop (mean ± std. dev. of 7 runs, 1 loop each)\n"
     ]
    }
   ],
   "source": [
    "%%timeit\n",
    "roots2 = vmap(lambda w: roots_semi_analytic(w, a, e1, niter=50))(w_test)\n",
    "roots2.block_until_ready()\n"
   ]
  },
  {
   "cell_type": "code",
   "execution_count": 11,
   "metadata": {},
   "outputs": [
    {
     "data": {
      "text/plain": [
       "2.4e-06"
      ]
     },
     "execution_count": 11,
     "metadata": {},
     "output_type": "execute_result"
    }
   ],
   "source": [
    "0.6/500/500"
   ]
  },
  {
   "cell_type": "code",
   "execution_count": 12,
   "metadata": {},
   "outputs": [
    {
     "data": {
      "text/plain": [
       "4.0"
      ]
     },
     "execution_count": 12,
     "metadata": {},
     "output_type": "execute_result"
    }
   ],
   "source": [
    "800/200"
   ]
  },
  {
   "cell_type": "code",
   "execution_count": null,
   "metadata": {},
   "outputs": [],
   "source": []
  }
 ],
 "metadata": {
  "kernelspec": {
   "display_name": "Python (lfi)",
   "language": "python",
   "name": "lfi-microlensing"
  },
  "language_info": {
   "codemirror_mode": {
    "name": "ipython",
    "version": 3
   },
   "file_extension": ".py",
   "mimetype": "text/x-python",
   "name": "python",
   "nbconvert_exporter": "python",
   "pygments_lexer": "ipython3",
   "version": "3.7.9"
  },
  "vscode": {
   "interpreter": {
    "hash": "8617f87df57a15c2d0fffa0b06b360c4d86aa54401e8178aaa153508ff22dc46"
   }
  }
 },
 "nbformat": 4,
 "nbformat_minor": 2
}
