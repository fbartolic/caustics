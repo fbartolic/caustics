{
 "cells": [
  {
   "cell_type": "code",
   "execution_count": 1,
   "metadata": {
    "colab": {
     "base_uri": "https://localhost:8080/",
     "height": 334
    },
    "id": "4Vn6SYstAUdV",
    "outputId": "820bf5e5-dd46-480a-f5b0-26c2cb5bf2c7"
   },
   "outputs": [
    {
     "name": "stdout",
     "output_type": "stream",
     "text": [
      "gpu_ops: <module 'caustics.gpu_ops' from '/home/fb90/miniforge3/envs/caustics/lib/python3.9/site-packages/caustics-0.0.0-py3.9-linux-x86_64.egg/caustics/gpu_ops.cpython-39-x86_64-linux-gnu.so'>\n"
     ]
    }
   ],
   "source": [
    "import numpy as np\n",
    "from jax.config import config\n",
    "config.update(\"jax_enable_x64\", True)\n",
    "config.update('jax_platform_name', 'gpu')\n",
    "import jax.numpy as jnp\n",
    "from jax import jit, vmap, lax, grad\n",
    "from jax.test_util import check_grads\n",
    "from jax.interpreters import ad, batching, xla\n",
    "import jax\n",
    "\n",
    "from caustics import ehrlich_aberth\n",
    "from functools import partial"
   ]
  },
  {
   "cell_type": "code",
   "execution_count": 2,
   "metadata": {},
   "outputs": [],
   "source": [
    "@jit\n",
    "def min_zero_avoiding(x):\n",
    "    x = jnp.sort(x)\n",
    "    min_x = jnp.min(x)\n",
    "    cond = min_x == 0.\n",
    "    return jnp.where(cond, x[(x!=0).argmax(axis=0)], min_x)\n",
    "\n",
    "@jit\n",
    "def max_zero_avoiding(x):\n",
    "    x = jnp.sort(x)\n",
    "    max_x = jnp.max(x)\n",
    "    cond = max_x == 0.\n",
    "    return jnp.where(cond, -min_zero_avoiding(jnp.abs(x)), max_x)\n",
    "\n",
    "@jit\n",
    "def ang_dist(theta1, theta2):\n",
    "    \"\"\"Smallest angular distance between two angles.\"\"\"\n",
    "    diff1 = (theta1 - theta2) % (2*jnp.pi)\n",
    "    diff2 = (theta2 - theta1) % (2*jnp.pi)\n",
    "    return jnp.min(jnp.array([diff1, diff2]), axis=0)\n",
    "\n",
    "@jit\n",
    "def ang_diff(theta):\n",
    "    \"\"\"\n",
    "    Angular distance between consecutive points. Last point of the output array\n",
    "    is the distance between first and last point.\n",
    "    \"\"\"\n",
    "    theta1 = theta\n",
    "    theta2 = jnp.concatenate([theta[1:], jnp.atleast_1d(theta1[0])])\n",
    "    return vmap(ang_dist)(theta1, theta2)\n",
    "\n",
    "@jit\n",
    "def add_angles(a, b):\n",
    "    \"\"\"a + b\"\"\"\n",
    "    cos_apb = jnp.cos(a)*jnp.cos(b) - jnp.sin(a)*jnp.sin(b)\n",
    "    sin_apb = jnp.sin(a)*jnp.cos(b) + jnp.cos(a)*jnp.sin(b)\n",
    "    return jnp.arctan2(sin_apb, cos_apb)\n",
    "\n",
    "@jit\n",
    "def subtract_angles(a, b):\n",
    "    \"\"\"a - b\"\"\"\n",
    "    cos_amb = jnp.cos(a)*jnp.cos(b) + jnp.sin(a)*jnp.sin(b)\n",
    "    sin_amb = jnp.sin(a)*jnp.cos(b) - jnp.cos(a)*jnp.sin(b)\n",
    "    return jnp.arctan2(sin_amb, cos_amb)      \n"
   ]
  },
  {
   "cell_type": "code",
   "execution_count": 4,
   "metadata": {},
   "outputs": [
    {
     "data": {
      "text/plain": [
       "(1, 6)"
      ]
     },
     "execution_count": 4,
     "metadata": {},
     "output_type": "execute_result"
    }
   ],
   "source": [
    "@partial(jit, static_argnames=('N',))\n",
    "def compute_polynomial_coeffs(w, a, e1, N=2):    \n",
    "    wbar = jnp.conjugate(w)\n",
    "    \n",
    "    p_0 = -a**2 + wbar**2\n",
    "    p_1 = a**2*w - 2*a*e1 + a - w*wbar**2 + wbar\n",
    "    p_2 = 2*a**4 - 2*a**2*wbar**2 + 4*a*wbar*e1 - 2*a*wbar - 2*w*wbar\n",
    "    p_3 = -2*a**4*w + 4*a**3*e1 - 2*a**3 + 2*a**2*w*wbar**2 - 4*a*w*wbar*e1 +\\\n",
    "        2*a*w*wbar + 2*a*e1 - a - w\n",
    "    p_4 = -a**6 + a**4*wbar**2 - 4*a**3*wbar*e1 + 2*a**3*wbar + 2*a**2*w*wbar +\\\n",
    "        4*a**2*e1**2 - 4*a**2*e1 + 2*a**2 - 4*a*w*e1 + 2*a*w\n",
    "    p_5 = a**6*w - 2*a**5*e1 + a**5 - a**4*w*wbar**2 - a**4*wbar + 4*a**3*w*wbar*e1 -\\\n",
    "        2*a**3*w*wbar + 2*a**3*e1 - a**3 - 4*a**2*w*e1**2 + 4*a**2*w*e1 - a**2*w\n",
    "\n",
    "    p = jnp.array([p_0, p_1, p_2, p_3, p_4, p_5])\n",
    "        \n",
    "    return p\n",
    "\n",
    "\n",
    "# Lens postion\n",
    "a = 0.5*0.9\n",
    "\n",
    "# Lens mass ratio\n",
    "e1 = 0.8\n",
    "e2 = 1. - e1\n",
    "ncoeffs = 6\n",
    "\n",
    "# Compute complex polynomial coefficients for each source position\n",
    "w_points = jnp.linspace(0.39, 0.4, 5000).astype(jnp.complex128)\n",
    "wgrid = w_points[:, None]\n",
    "wgrid = wgrid[10, :][:, None] # select just one polynomial\n",
    "coeffs = vmap(vmap(lambda w: compute_polynomial_coeffs(w, a, e1)))(wgrid).reshape(1, -1)\n",
    "coeffs.shape"
   ]
  },
  {
   "cell_type": "code",
   "execution_count": 5,
   "metadata": {},
   "outputs": [],
   "source": [
    "# test_fn = lambda p: ehrlich_aberth(p)[2]\n",
    "# check_grads(test_fn, (coeffs,), 1)"
   ]
  },
  {
   "cell_type": "code",
   "execution_count": 6,
   "metadata": {},
   "outputs": [
    {
     "data": {
      "text/plain": [
       "DeviceArray([ 1.44348505e-10+2.88697021e-10j,\n",
       "              5.98220016e-06-6.45226648e-06j,\n",
       "             -8.75070133e-06+9.14325318e-07j,\n",
       "             -1.14397014e-07-2.28794450e-07j,\n",
       "              8.38463628e-06+1.67703210e-05j], dtype=complex128)"
      ]
     },
     "execution_count": 6,
     "metadata": {},
     "output_type": "execute_result"
    }
   ],
   "source": [
    "delta = jnp.zeros_like(coeffs)\n",
    "delta = delta.at[0, np.random.randint(0, len(coeffs))].set(1e-07 + 2e-07j) # perturbation in random coefficient\n",
    "\n",
    "df_finite_diff = ehrlich_aberth(coeffs + delta) - ehrlich_aberth(coeffs)\n",
    "df_finite_diff"
   ]
  },
  {
   "cell_type": "code",
   "execution_count": 7,
   "metadata": {},
   "outputs": [
    {
     "data": {
      "text/plain": [
       "DeviceArray([-6.47938339e-07-1.29587668e-06j,\n",
       "             -2.65091845e-07+3.31006422e-07j,\n",
       "              4.23860244e-07-1.34696231e-08j,\n",
       "              1.32588365e-06+2.65176730e-06j,\n",
       "             -1.98405184e-07-3.96810368e-07j], dtype=complex128)"
      ]
     },
     "execution_count": 7,
     "metadata": {},
     "output_type": "execute_result"
    }
   ],
   "source": [
    "f, df = jax.jvp(ehrlich_aberth, (coeffs,), (delta,))\n",
    "df"
   ]
  },
  {
   "cell_type": "code",
   "execution_count": 8,
   "metadata": {},
   "outputs": [
    {
     "data": {
      "text/plain": [
       "DeviceArray([0.+0.j, 0.+0.j, 0.+0.j, 0.+0.j, 0.+0.j], dtype=complex128)"
      ]
     },
     "execution_count": 8,
     "metadata": {},
     "output_type": "execute_result"
    }
   ],
   "source": [
    "ehrlich_aberth(coeffs) - f"
   ]
  },
  {
   "cell_type": "code",
   "execution_count": 26,
   "metadata": {},
   "outputs": [],
   "source": [
    "@jax.custom_jvp\n",
    "def fn(p):\n",
    "    return ehrlich_aberth(p)\n",
    "\n",
    "@fn.defjvp\n",
    "def fn_jvp(args, tangents):\n",
    "    p = args[0]\n",
    "    dp = tangents[0]\n",
    "        \n",
    "    size = p.shape[0]  # number of polynomials\n",
    "    deg = p.shape[1] - 1  # degree of polynomials\n",
    "\n",
    "    # Roots\n",
    "    z = ehrlich_aberth(p)  # shape (size * deg,)\n",
    "    z = z.reshape((size, deg))  # shape (size, deg)\n",
    "\n",
    "    # Evaluate the derivative of the polynomials at the roots\n",
    "    p_deriv = vmap(jnp.polyder)(p)\n",
    "    df_dz = vmap(lambda coeffs, root: jnp.polyval(coeffs, root))(p_deriv, z)\n",
    "\n",
    "    def zero_tangent(tan, val):\n",
    "        return lax.zeros_like_array(val) if type(tan) is ad.Zero else tan\n",
    "\n",
    "    # The Jacobian of f with respect to coefficient p evaluated at each of the\n",
    "    # roots. Shape (size, deg, deg + 1).\n",
    "    df_dp = vmap(vmap(lambda z: jnp.power(z, jnp.arange(deg + 1)[::-1])))(z)\n",
    "\n",
    "    # Jacobian of the roots multiplied by the tangents, shape (size, deg)\n",
    "    dz = (\n",
    "        vmap(\n",
    "            lambda df_dp_i: jnp.sum(df_dp_i * zero_tangent(dp, p), axis=1),\n",
    "            in_axes=1,  # vmap over all roots\n",
    "        )(df_dp).T\n",
    "        / (-df_dz)\n",
    "    )\n",
    "    \n",
    "    return (\n",
    "        z.reshape(-1),\n",
    "        dz.reshape(-1),\n",
    "    )"
   ]
  },
  {
   "cell_type": "code",
   "execution_count": 27,
   "metadata": {},
   "outputs": [
    {
     "data": {
      "text/plain": [
       "DeviceArray([ 1.44348505e-10+2.88697021e-10j,\n",
       "              5.98220016e-06-6.45226648e-06j,\n",
       "             -8.75070133e-06+9.14325318e-07j,\n",
       "             -1.14397014e-07-2.28794450e-07j,\n",
       "              8.38463628e-06+1.67703210e-05j], dtype=complex128)"
      ]
     },
     "execution_count": 27,
     "metadata": {},
     "output_type": "execute_result"
    }
   ],
   "source": [
    "df_finite_diff2 = fn(coeffs + delta) - fn(coeffs) # change in root with idx 2 (finite difference)\n",
    "df_finite_diff2"
   ]
  },
  {
   "cell_type": "code",
   "execution_count": 28,
   "metadata": {},
   "outputs": [
    {
     "data": {
      "text/plain": [
       "DeviceArray([ 1.44348511e-10+2.88697023e-10j,\n",
       "              5.98211575e-06-6.45203640e-06j,\n",
       "             -8.75089857e-06+9.14470759e-07j,\n",
       "             -1.14397141e-07-2.28794281e-07j,\n",
       "              8.38495081e-06+1.67699016e-05j], dtype=complex128)"
      ]
     },
     "execution_count": 28,
     "metadata": {},
     "output_type": "execute_result"
    }
   ],
   "source": [
    "f2, df2 = jax.jvp(fn, (coeffs,), (delta,))\n",
    "df2"
   ]
  },
  {
   "cell_type": "code",
   "execution_count": 12,
   "metadata": {},
   "outputs": [
    {
     "ename": "AssertionError",
     "evalue": "\nNot equal to tolerance rtol=1e-05, atol=1e-05\nJVP tangent\nMismatched elements: 1 / 1 (100%)\nMax absolute difference: 0.4168858\nMax relative difference: 0.00310512\n x: array(-125.717262+47.900205j)\n y: array(-125.348052+48.093797j)",
     "output_type": "error",
     "traceback": [
      "\u001b[0;31m---------------------------------------------------------------------------\u001b[0m",
      "\u001b[0;31mAssertionError\u001b[0m                            Traceback (most recent call last)",
      "Input \u001b[0;32mIn [12]\u001b[0m, in \u001b[0;36m<module>\u001b[0;34m\u001b[0m\n\u001b[0;32m----> 1\u001b[0m \u001b[43mcheck_grads\u001b[49m\u001b[43m(\u001b[49m\u001b[38;5;28;43;01mlambda\u001b[39;49;00m\u001b[43m \u001b[49m\u001b[43mp\u001b[49m\u001b[43m:\u001b[49m\u001b[43m \u001b[49m\u001b[43mfn\u001b[49m\u001b[43m(\u001b[49m\u001b[43mp\u001b[49m\u001b[43m)\u001b[49m\u001b[43m[\u001b[49m\u001b[38;5;241;43m2\u001b[39;49m\u001b[43m]\u001b[49m\u001b[43m,\u001b[49m\u001b[43m \u001b[49m\u001b[43m(\u001b[49m\u001b[43mcoeffs\u001b[49m\u001b[43m,\u001b[49m\u001b[43m)\u001b[49m\u001b[43m,\u001b[49m\u001b[43m \u001b[49m\u001b[38;5;241;43m1\u001b[39;49m\u001b[43m)\u001b[49m\n",
      "File \u001b[0;32m~/miniforge3/envs/caustics/lib/python3.9/site-packages/jax/_src/test_util.py:370\u001b[0m, in \u001b[0;36mcheck_grads\u001b[0;34m(f, args, order, modes, atol, rtol, eps)\u001b[0m\n\u001b[1;32m    367\u001b[0m         \u001b[38;5;28;01mreturn\u001b[39;00m vjp_py(out_primal_py)\n\u001b[1;32m    368\u001b[0m       _check_grads(f_vjp, args, order \u001b[38;5;241m-\u001b[39m \u001b[38;5;241m1\u001b[39m, rev_msg)\n\u001b[0;32m--> 370\u001b[0m \u001b[43m_check_grads\u001b[49m\u001b[43m(\u001b[49m\u001b[43mf\u001b[49m\u001b[43m,\u001b[49m\u001b[43m \u001b[49m\u001b[43margs\u001b[49m\u001b[43m,\u001b[49m\u001b[43m \u001b[49m\u001b[43morder\u001b[49m\u001b[43m)\u001b[49m\n",
      "File \u001b[0;32m~/miniforge3/envs/caustics/lib/python3.9/site-packages/jax/_src/test_util.py:357\u001b[0m, in \u001b[0;36mcheck_grads.<locals>._check_grads\u001b[0;34m(f, args, order, err_msg)\u001b[0m\n\u001b[1;32m    355\u001b[0m \u001b[38;5;28;01mif\u001b[39;00m \u001b[38;5;124m\"\u001b[39m\u001b[38;5;124mfwd\u001b[39m\u001b[38;5;124m\"\u001b[39m \u001b[38;5;129;01min\u001b[39;00m modes:\n\u001b[1;32m    356\u001b[0m   fwd_msg \u001b[38;5;241m=\u001b[39m \u001b[38;5;124mf\u001b[39m\u001b[38;5;124m'\u001b[39m\u001b[38;5;124mJVP of \u001b[39m\u001b[38;5;132;01m{\u001b[39;00merr_msg\u001b[38;5;132;01m}\u001b[39;00m\u001b[38;5;124m'\u001b[39m \u001b[38;5;28;01mif\u001b[39;00m err_msg \u001b[38;5;28;01melse\u001b[39;00m \u001b[38;5;124m'\u001b[39m\u001b[38;5;124mJVP\u001b[39m\u001b[38;5;124m'\u001b[39m\n\u001b[0;32m--> 357\u001b[0m   \u001b[43m_check_jvp\u001b[49m\u001b[43m(\u001b[49m\u001b[43mf\u001b[49m\u001b[43m,\u001b[49m\u001b[43m \u001b[49m\u001b[43mpartial\u001b[49m\u001b[43m(\u001b[49m\u001b[43mapi\u001b[49m\u001b[38;5;241;43m.\u001b[39;49m\u001b[43mjvp\u001b[49m\u001b[43m,\u001b[49m\u001b[43m \u001b[49m\u001b[43mf\u001b[49m\u001b[43m)\u001b[49m\u001b[43m,\u001b[49m\u001b[43m \u001b[49m\u001b[43margs\u001b[49m\u001b[43m,\u001b[49m\u001b[43m \u001b[49m\u001b[43merr_msg\u001b[49m\u001b[38;5;241;43m=\u001b[39;49m\u001b[43mfwd_msg\u001b[49m\u001b[43m)\u001b[49m\n\u001b[1;32m    358\u001b[0m   \u001b[38;5;28;01mif\u001b[39;00m order \u001b[38;5;241m>\u001b[39m \u001b[38;5;241m1\u001b[39m:\n\u001b[1;32m    359\u001b[0m     _check_grads(partial(api\u001b[38;5;241m.\u001b[39mjvp, f), (args, args), order \u001b[38;5;241m-\u001b[39m \u001b[38;5;241m1\u001b[39m, fwd_msg)\n",
      "File \u001b[0;32m~/miniforge3/envs/caustics/lib/python3.9/site-packages/jax/_src/test_util.py:305\u001b[0m, in \u001b[0;36mcheck_jvp\u001b[0;34m(f, f_jvp, args, atol, rtol, eps, err_msg)\u001b[0m\n\u001b[1;32m    300\u001b[0m \u001b[38;5;66;03m# In principle we should expect exact equality of v_out and v_out_expected,\u001b[39;00m\n\u001b[1;32m    301\u001b[0m \u001b[38;5;66;03m# but due to nondeterminism especially on GPU (e.g., due to convolution\u001b[39;00m\n\u001b[1;32m    302\u001b[0m \u001b[38;5;66;03m# autotuning) we only require \"close\".\u001b[39;00m\n\u001b[1;32m    303\u001b[0m check_close(v_out, v_out_expected, atol\u001b[38;5;241m=\u001b[39matol, rtol\u001b[38;5;241m=\u001b[39mrtol,\n\u001b[1;32m    304\u001b[0m             err_msg\u001b[38;5;241m=\u001b[39m\u001b[38;5;124mf\u001b[39m\u001b[38;5;124m'\u001b[39m\u001b[38;5;132;01m{\u001b[39;00merr_msg\u001b[38;5;132;01m}\u001b[39;00m\u001b[38;5;124m primal\u001b[39m\u001b[38;5;124m'\u001b[39m \u001b[38;5;28;01mif\u001b[39;00m err_msg \u001b[38;5;28;01melse\u001b[39;00m \u001b[38;5;124m'\u001b[39m\u001b[38;5;124mprimal\u001b[39m\u001b[38;5;124m'\u001b[39m)\n\u001b[0;32m--> 305\u001b[0m \u001b[43mcheck_close\u001b[49m\u001b[43m(\u001b[49m\u001b[43mt_out\u001b[49m\u001b[43m,\u001b[49m\u001b[43m \u001b[49m\u001b[43mt_out_expected\u001b[49m\u001b[43m,\u001b[49m\u001b[43m \u001b[49m\u001b[43matol\u001b[49m\u001b[38;5;241;43m=\u001b[39;49m\u001b[43matol\u001b[49m\u001b[43m,\u001b[49m\u001b[43m \u001b[49m\u001b[43mrtol\u001b[49m\u001b[38;5;241;43m=\u001b[39;49m\u001b[43mrtol\u001b[49m\u001b[43m,\u001b[49m\n\u001b[1;32m    306\u001b[0m \u001b[43m            \u001b[49m\u001b[43merr_msg\u001b[49m\u001b[38;5;241;43m=\u001b[39;49m\u001b[38;5;124;43mf\u001b[39;49m\u001b[38;5;124;43m'\u001b[39;49m\u001b[38;5;132;43;01m{\u001b[39;49;00m\u001b[43merr_msg\u001b[49m\u001b[38;5;132;43;01m}\u001b[39;49;00m\u001b[38;5;124;43m tangent\u001b[39;49m\u001b[38;5;124;43m'\u001b[39;49m\u001b[43m \u001b[49m\u001b[38;5;28;43;01mif\u001b[39;49;00m\u001b[43m \u001b[49m\u001b[43merr_msg\u001b[49m\u001b[43m \u001b[49m\u001b[38;5;28;43;01melse\u001b[39;49;00m\u001b[43m \u001b[49m\u001b[38;5;124;43m'\u001b[39;49m\u001b[38;5;124;43mtangent\u001b[39;49m\u001b[38;5;124;43m'\u001b[39;49m\u001b[43m)\u001b[49m\n",
      "File \u001b[0;32m~/miniforge3/envs/caustics/lib/python3.9/site-packages/jax/_src/test_util.py:225\u001b[0m, in \u001b[0;36mcheck_close\u001b[0;34m(xs, ys, atol, rtol, err_msg)\u001b[0m\n\u001b[1;32m    222\u001b[0m \u001b[38;5;28;01mdef\u001b[39;00m \u001b[38;5;21mcheck_close\u001b[39m(xs, ys, atol\u001b[38;5;241m=\u001b[39m\u001b[38;5;28;01mNone\u001b[39;00m, rtol\u001b[38;5;241m=\u001b[39m\u001b[38;5;28;01mNone\u001b[39;00m, err_msg\u001b[38;5;241m=\u001b[39m\u001b[38;5;124m'\u001b[39m\u001b[38;5;124m'\u001b[39m):\n\u001b[1;32m    223\u001b[0m   assert_close \u001b[38;5;241m=\u001b[39m partial(_assert_numpy_close, atol\u001b[38;5;241m=\u001b[39matol, rtol\u001b[38;5;241m=\u001b[39mrtol,\n\u001b[1;32m    224\u001b[0m                          err_msg\u001b[38;5;241m=\u001b[39merr_msg)\n\u001b[0;32m--> 225\u001b[0m   tree_all(\u001b[43mtree_multimap\u001b[49m\u001b[43m(\u001b[49m\u001b[43massert_close\u001b[49m\u001b[43m,\u001b[49m\u001b[43m \u001b[49m\u001b[43mxs\u001b[49m\u001b[43m,\u001b[49m\u001b[43m \u001b[49m\u001b[43mys\u001b[49m\u001b[43m)\u001b[49m)\n",
      "File \u001b[0;32m~/miniforge3/envs/caustics/lib/python3.9/site-packages/jax/_src/tree_util.py:178\u001b[0m, in \u001b[0;36mtree_map\u001b[0;34m(f, tree, is_leaf, *rest)\u001b[0m\n\u001b[1;32m    176\u001b[0m leaves, treedef \u001b[38;5;241m=\u001b[39m tree_flatten(tree, is_leaf)\n\u001b[1;32m    177\u001b[0m all_leaves \u001b[38;5;241m=\u001b[39m [leaves] \u001b[38;5;241m+\u001b[39m [treedef\u001b[38;5;241m.\u001b[39mflatten_up_to(r) \u001b[38;5;28;01mfor\u001b[39;00m r \u001b[38;5;129;01min\u001b[39;00m rest]\n\u001b[0;32m--> 178\u001b[0m \u001b[38;5;28;01mreturn\u001b[39;00m \u001b[43mtreedef\u001b[49m\u001b[38;5;241;43m.\u001b[39;49m\u001b[43munflatten\u001b[49m\u001b[43m(\u001b[49m\u001b[43mf\u001b[49m\u001b[43m(\u001b[49m\u001b[38;5;241;43m*\u001b[39;49m\u001b[43mxs\u001b[49m\u001b[43m)\u001b[49m\u001b[43m \u001b[49m\u001b[38;5;28;43;01mfor\u001b[39;49;00m\u001b[43m \u001b[49m\u001b[43mxs\u001b[49m\u001b[43m \u001b[49m\u001b[38;5;129;43;01min\u001b[39;49;00m\u001b[43m \u001b[49m\u001b[38;5;28;43mzip\u001b[39;49m\u001b[43m(\u001b[49m\u001b[38;5;241;43m*\u001b[39;49m\u001b[43mall_leaves\u001b[49m\u001b[43m)\u001b[49m\u001b[43m)\u001b[49m\n",
      "File \u001b[0;32m~/miniforge3/envs/caustics/lib/python3.9/site-packages/jax/_src/tree_util.py:178\u001b[0m, in \u001b[0;36m<genexpr>\u001b[0;34m(.0)\u001b[0m\n\u001b[1;32m    176\u001b[0m leaves, treedef \u001b[38;5;241m=\u001b[39m tree_flatten(tree, is_leaf)\n\u001b[1;32m    177\u001b[0m all_leaves \u001b[38;5;241m=\u001b[39m [leaves] \u001b[38;5;241m+\u001b[39m [treedef\u001b[38;5;241m.\u001b[39mflatten_up_to(r) \u001b[38;5;28;01mfor\u001b[39;00m r \u001b[38;5;129;01min\u001b[39;00m rest]\n\u001b[0;32m--> 178\u001b[0m \u001b[38;5;28;01mreturn\u001b[39;00m treedef\u001b[38;5;241m.\u001b[39munflatten(\u001b[43mf\u001b[49m\u001b[43m(\u001b[49m\u001b[38;5;241;43m*\u001b[39;49m\u001b[43mxs\u001b[49m\u001b[43m)\u001b[49m \u001b[38;5;28;01mfor\u001b[39;00m xs \u001b[38;5;129;01min\u001b[39;00m \u001b[38;5;28mzip\u001b[39m(\u001b[38;5;241m*\u001b[39mall_leaves))\n",
      "File \u001b[0;32m~/miniforge3/envs/caustics/lib/python3.9/site-packages/jax/_src/test_util.py:215\u001b[0m, in \u001b[0;36m_assert_numpy_close\u001b[0;34m(a, b, atol, rtol, err_msg)\u001b[0m\n\u001b[1;32m    213\u001b[0m atol \u001b[38;5;241m=\u001b[39m \u001b[38;5;28mmax\u001b[39m(tolerance(a\u001b[38;5;241m.\u001b[39mdtype, atol), tolerance(b\u001b[38;5;241m.\u001b[39mdtype, atol))\n\u001b[1;32m    214\u001b[0m rtol \u001b[38;5;241m=\u001b[39m \u001b[38;5;28mmax\u001b[39m(tolerance(a\u001b[38;5;241m.\u001b[39mdtype, rtol), tolerance(b\u001b[38;5;241m.\u001b[39mdtype, rtol))\n\u001b[0;32m--> 215\u001b[0m \u001b[43m_assert_numpy_allclose\u001b[49m\u001b[43m(\u001b[49m\u001b[43ma\u001b[49m\u001b[43m,\u001b[49m\u001b[43m \u001b[49m\u001b[43mb\u001b[49m\u001b[43m,\u001b[49m\u001b[43m \u001b[49m\u001b[43matol\u001b[49m\u001b[38;5;241;43m=\u001b[39;49m\u001b[43matol\u001b[49m\u001b[43m \u001b[49m\u001b[38;5;241;43m*\u001b[39;49m\u001b[43m \u001b[49m\u001b[43ma\u001b[49m\u001b[38;5;241;43m.\u001b[39;49m\u001b[43msize\u001b[49m\u001b[43m,\u001b[49m\u001b[43m \u001b[49m\u001b[43mrtol\u001b[49m\u001b[38;5;241;43m=\u001b[39;49m\u001b[43mrtol\u001b[49m\u001b[43m \u001b[49m\u001b[38;5;241;43m*\u001b[39;49m\u001b[43m \u001b[49m\u001b[43mb\u001b[49m\u001b[38;5;241;43m.\u001b[39;49m\u001b[43msize\u001b[49m\u001b[43m,\u001b[49m\n\u001b[1;32m    216\u001b[0m \u001b[43m                       \u001b[49m\u001b[43merr_msg\u001b[49m\u001b[38;5;241;43m=\u001b[39;49m\u001b[43merr_msg\u001b[49m\u001b[43m)\u001b[49m\n",
      "File \u001b[0;32m~/miniforge3/envs/caustics/lib/python3.9/site-packages/jax/_src/test_util.py:185\u001b[0m, in \u001b[0;36m_assert_numpy_allclose\u001b[0;34m(a, b, atol, rtol, err_msg)\u001b[0m\n\u001b[1;32m    181\u001b[0m \u001b[38;5;28;01mif\u001b[39;00m rtol: kw[\u001b[38;5;124m\"\u001b[39m\u001b[38;5;124mrtol\u001b[39m\u001b[38;5;124m\"\u001b[39m] \u001b[38;5;241m=\u001b[39m rtol\n\u001b[1;32m    182\u001b[0m \u001b[38;5;28;01mwith\u001b[39;00m np\u001b[38;5;241m.\u001b[39merrstate(invalid\u001b[38;5;241m=\u001b[39m\u001b[38;5;124m'\u001b[39m\u001b[38;5;124mignore\u001b[39m\u001b[38;5;124m'\u001b[39m):\n\u001b[1;32m    183\u001b[0m   \u001b[38;5;66;03m# TODO(phawkins): surprisingly, assert_allclose sometimes reports invalid\u001b[39;00m\n\u001b[1;32m    184\u001b[0m   \u001b[38;5;66;03m# value errors. It should not do that.\u001b[39;00m\n\u001b[0;32m--> 185\u001b[0m   \u001b[43mnp\u001b[49m\u001b[38;5;241;43m.\u001b[39;49m\u001b[43mtesting\u001b[49m\u001b[38;5;241;43m.\u001b[39;49m\u001b[43massert_allclose\u001b[49m\u001b[43m(\u001b[49m\u001b[43ma\u001b[49m\u001b[43m,\u001b[49m\u001b[43m \u001b[49m\u001b[43mb\u001b[49m\u001b[43m,\u001b[49m\u001b[43m \u001b[49m\u001b[38;5;241;43m*\u001b[39;49m\u001b[38;5;241;43m*\u001b[39;49m\u001b[43mkw\u001b[49m\u001b[43m,\u001b[49m\u001b[43m \u001b[49m\u001b[43merr_msg\u001b[49m\u001b[38;5;241;43m=\u001b[39;49m\u001b[43merr_msg\u001b[49m\u001b[43m)\u001b[49m\n",
      "    \u001b[0;31m[... skipping hidden 1 frame]\u001b[0m\n",
      "File \u001b[0;32m~/miniforge3/envs/caustics/lib/python3.9/site-packages/numpy/testing/_private/utils.py:844\u001b[0m, in \u001b[0;36massert_array_compare\u001b[0;34m(comparison, x, y, err_msg, verbose, header, precision, equal_nan, equal_inf)\u001b[0m\n\u001b[1;32m    840\u001b[0m         err_msg \u001b[38;5;241m+\u001b[39m\u001b[38;5;241m=\u001b[39m \u001b[38;5;124m'\u001b[39m\u001b[38;5;130;01m\\n\u001b[39;00m\u001b[38;5;124m'\u001b[39m \u001b[38;5;241m+\u001b[39m \u001b[38;5;124m'\u001b[39m\u001b[38;5;130;01m\\n\u001b[39;00m\u001b[38;5;124m'\u001b[39m\u001b[38;5;241m.\u001b[39mjoin(remarks)\n\u001b[1;32m    841\u001b[0m         msg \u001b[38;5;241m=\u001b[39m build_err_msg([ox, oy], err_msg,\n\u001b[1;32m    842\u001b[0m                             verbose\u001b[38;5;241m=\u001b[39mverbose, header\u001b[38;5;241m=\u001b[39mheader,\n\u001b[1;32m    843\u001b[0m                             names\u001b[38;5;241m=\u001b[39m(\u001b[38;5;124m'\u001b[39m\u001b[38;5;124mx\u001b[39m\u001b[38;5;124m'\u001b[39m, \u001b[38;5;124m'\u001b[39m\u001b[38;5;124my\u001b[39m\u001b[38;5;124m'\u001b[39m), precision\u001b[38;5;241m=\u001b[39mprecision)\n\u001b[0;32m--> 844\u001b[0m         \u001b[38;5;28;01mraise\u001b[39;00m \u001b[38;5;167;01mAssertionError\u001b[39;00m(msg)\n\u001b[1;32m    845\u001b[0m \u001b[38;5;28;01mexcept\u001b[39;00m \u001b[38;5;167;01mValueError\u001b[39;00m:\n\u001b[1;32m    846\u001b[0m     \u001b[38;5;28;01mimport\u001b[39;00m \u001b[38;5;21;01mtraceback\u001b[39;00m\n",
      "\u001b[0;31mAssertionError\u001b[0m: \nNot equal to tolerance rtol=1e-05, atol=1e-05\nJVP tangent\nMismatched elements: 1 / 1 (100%)\nMax absolute difference: 0.4168858\nMax relative difference: 0.00310512\n x: array(-125.717262+47.900205j)\n y: array(-125.348052+48.093797j)"
     ]
    }
   ],
   "source": [
    "check_grads(lambda p: fn(p)[2], (coeffs,), 1)"
   ]
  },
  {
   "cell_type": "code",
   "execution_count": null,
   "metadata": {},
   "outputs": [],
   "source": []
  }
 ],
 "metadata": {
  "colab": {
   "collapsed_sections": [],
   "name": "extending-jax-demo.ipynb",
   "provenance": []
  },
  "kernelspec": {
   "display_name": "caustics)",
   "language": "python",
   "name": "caustics"
  },
  "language_info": {
   "codemirror_mode": {
    "name": "ipython",
    "version": 3
   },
   "file_extension": ".py",
   "mimetype": "text/x-python",
   "name": "python",
   "nbconvert_exporter": "python",
   "pygments_lexer": "ipython3",
   "version": "3.9.9"
  }
 },
 "nbformat": 4,
 "nbformat_minor": 4
}
