{
 "cells": [
  {
   "cell_type": "code",
   "execution_count": 1,
   "id": "6489c3d3-e38f-4de3-8a0f-7709266a60be",
   "metadata": {},
   "outputs": [],
   "source": [
    "import sympy as sym\n",
    "from sympy import *\n",
    "\n",
    "init_printing(use_latex='mathjax')"
   ]
  },
  {
   "cell_type": "markdown",
   "id": "503ab3ae-fe1f-42f5-b7da-3e381ba51e97",
   "metadata": {},
   "source": [
    "# Derivation of the polynomial coefficients for the lens equation"
   ]
  },
  {
   "cell_type": "markdown",
   "id": "a6c678b0-abfe-4b1e-b142-7ceae0cd6539",
   "metadata": {},
   "source": [
    "Lens equation:\n",
    "\n",
    "$$\n",
    "w = z - \\sum_{j=1}^N\\frac{\\epsilon_j}{\\bar{z}-\\bar{r}_j}\n",
    "$$\n",
    "\n",
    "It follows that\n",
    "\n",
    "$$\n",
    "\\bar{z}=\\bar{w} + \\sum_{j=1}^N\\frac{\\epsilon_j}{z - r_j}\n",
    "$$"
   ]
  },
  {
   "cell_type": "markdown",
   "id": "9d09aa5d-7d88-43a1-a8f5-7b2138a6fcc0",
   "metadata": {},
   "source": [
    "We define $z_j\\equiv z -r_j$ and two polynomials $G$ and $H$:\n",
    "\n",
    "$$\n",
    "\\sum_{k=0}^{N-1}G_kz^k = G = \\sum_{j=1}^N\\epsilon_j\\prod_{i=1,\\;i\\neq j}^Nz_i\n",
    "$$\n",
    "\n",
    "$$\n",
    "\\sum_{k=0}^{N}H_kz^k = H= \\prod_{i=1}^Nz_i\n",
    "$$\n",
    "\n",
    "it follows that\n",
    "\n",
    "$$\n",
    "\\frac{G}{H}=\\frac{\\sum_{j=1}^N\\epsilon_j\\prod_{i\\neq j} z_i}{\\prod_{j=1}^Nz_j}=\\sum_{j=1}^N\\frac{\\epsilon_j}{z_j}\n",
    "$$\n",
    "\n",
    "and\n",
    "\n",
    "$$\n",
    "\\bar{z} = \\bar{w} + G/H\n",
    "$$"
   ]
  },
  {
   "cell_type": "markdown",
   "id": "4fba430f-fd15-495b-9c05-509a128e4fe0",
   "metadata": {},
   "source": [
    "Defining $\\varpi_j\\equiv \\bar{r}_j-\\bar{w}$, we have \n",
    "\n",
    "$$\n",
    "z - w = \\sum_{j=1}^N\\frac{\\epsilon_j}{G/H+\\bar{w}-\\bar{r}_j}\n",
    "$$\n",
    "\n",
    "multiplying the above expression with $\\prod_{j=1}^N(G-\\varpi_j H)$ results in \n",
    "\n",
    "$$\n",
    "0=(z-w) \\prod_{j=1}^{N}\\left(G-\\varpi_{j} H\\right)-H \\sum_{j=1}^{N}\\left[\\epsilon_{j} \\prod_{i=1,\\,j \\neq i}^N\\left(G-\\varpi_{i} H\\right)\\right]\n",
    "$$\n",
    "\n",
    "We can then plug in the above expression into Sympy to obtain the coefficients."
   ]
  },
  {
   "cell_type": "code",
   "execution_count": 2,
   "id": "b540433d-1034-4cb8-b4e3-2599c9e5d855",
   "metadata": {},
   "outputs": [],
   "source": [
    "def compute_polynomial(N):\n",
    "    # Define symbols\n",
    "    z, w = symbols(['z', 'w'], complex=True)\n",
    "    r = IndexedBase('r', complex=True)\n",
    "    e = IndexedBase('e', positive=True)\n",
    "    i, j = symbols(['i', 'j'], integer=True)\n",
    "    a = symbols('a', positive=True)\n",
    "\n",
    "    # Polynomial H\n",
    "    H = Product(z - r[i], (i, 1, N)).doit()\n",
    "    H = H.subs(r[1], a).subs(r[2], -a)\n",
    "    \n",
    "    # Polynomial G\n",
    "    G = 0\n",
    "    for j in range(1, N + 1):\n",
    "        G += e[j]*prod([z - r[i] for i in range(1, N + 1) if i!=j])   \n",
    "    G = G.subs(r[1], a).subs(r[2], -a)\n",
    "    \n",
    "    # First term\n",
    "    i, j = symbols(['i', 'j'], integer=True)\n",
    "    # tmp = G - (conjugate(r[j]) - conjugate(w))*H\n",
    "    # term1 = Product(tmp.subs(r[1], a).subs(r[2], -a), (j, 1, N)).doit()*(z - w)\n",
    "    term1 = prod(\n",
    "        [(G - (conjugate(r[j]) - conjugate(w))*H).subs(r[1], a).subs(r[2], -a) for j in range(1, N + 1)]\n",
    "    )\n",
    "    term1 *= (z - w)\n",
    "    \n",
    "    # Second term\n",
    "    s = 0\n",
    "    for j in range(1, N + 1):\n",
    "        s += e[j]*prod(\n",
    "            [(G - (conjugate(r[i]) - conjugate(w))*H).subs(r[1], a).subs(r[2], -a) for i in range(1, N + 1) if i!=j]\n",
    "        )   \n",
    "    term2 = s*H\n",
    "    \n",
    "    return Poly(term1 - term2, z).all_coeffs()\n"
   ]
  },
  {
   "cell_type": "markdown",
   "id": "4807ec7d-d408-4536-9911-f857f4d0392f",
   "metadata": {},
   "source": [
    "## N = 2"
   ]
  },
  {
   "cell_type": "code",
   "execution_count": 9,
   "id": "80a552b3-37e0-4845-8255-71b6ffe4cc81",
   "metadata": {},
   "outputs": [],
   "source": [
    "N = 2\n",
    "coeffs = compute_polynomial(N)\n",
    "e = IndexedBase('e', positive=True)\n",
    "coeffs = [expand(c.subs(e[2], 1-e[1])) for c in coeffs]"
   ]
  },
  {
   "cell_type": "code",
   "execution_count": 10,
   "id": "ff5bfc1e-a2d1-42bc-8061-0234c9cd3d7d",
   "metadata": {},
   "outputs": [
    {
     "name": "stdout",
     "output_type": "stream",
     "text": [
      "p_0 = -a**2 + conjugate(w)**2\n",
      "\n",
      "\n",
      "\n",
      "p_1 = a**2*w - 2*a*e[1] + a - w*conjugate(w)**2 + conjugate(w)\n",
      "\n",
      "\n",
      "\n",
      "p_2 = 2*a**4 - 2*a**2*conjugate(w)**2 + 4*a*conjugate(w)*e[1] - 2*a*conjugate(w) - 2*w*conjugate(w)\n",
      "\n",
      "\n",
      "\n",
      "p_3 = -2*a**4*w + 4*a**3*e[1] - 2*a**3 + 2*a**2*w*conjugate(w)**2 - 4*a*w*conjugate(w)*e[1] + 2*a*w*conjugate(w) + 2*a*e[1] - a - w\n",
      "\n",
      "\n",
      "\n",
      "p_4 = -a**6 + a**4*conjugate(w)**2 - 4*a**3*conjugate(w)*e[1] + 2*a**3*conjugate(w) + 2*a**2*w*conjugate(w) + 4*a**2*e[1]**2 - 4*a**2*e[1] + 2*a**2 - 4*a*w*e[1] + 2*a*w\n",
      "\n",
      "\n",
      "\n",
      "p_5 = a**6*w - 2*a**5*e[1] + a**5 - a**4*w*conjugate(w)**2 - a**4*conjugate(w) + 4*a**3*w*conjugate(w)*e[1] - 2*a**3*w*conjugate(w) + 2*a**3*e[1] - a**3 - 4*a**2*w*e[1]**2 + 4*a**2*w*e[1] - a**2*w\n",
      "\n",
      "\n",
      "\n"
     ]
    }
   ],
   "source": [
    "N = 2\n",
    "# Print coefficients starting with the highest power coefficient\n",
    "for i in range(N**2 + 2):\n",
    "    print(f\"p_{i} =\", str(coeffs[i]))\n",
    "    print(\"\\n\\n\")"
   ]
  },
  {
   "cell_type": "markdown",
   "id": "477b2fa3-e816-4356-866b-f47f7c9af54f",
   "metadata": {},
   "source": [
    "## N = 3"
   ]
  },
  {
   "cell_type": "code",
   "execution_count": 34,
   "id": "0b8aceb3-be57-466f-ac4d-62882cf305b1",
   "metadata": {},
   "outputs": [],
   "source": [
    "N = 3\n",
    "coeffs = compute_polynomial(N)\n",
    "coeffs = [expand(c.subs(e[3], 1- e[1] - e[2])) for c in coeffs]"
   ]
  },
  {
   "cell_type": "code",
   "execution_count": 35,
   "id": "c6836c16-788c-46fc-8316-64ae700386cb",
   "metadata": {},
   "outputs": [
    {
     "name": "stdout",
     "output_type": "stream",
     "text": [
      "p_0=\n",
      "\n",
      " -a**2*conjugate(w) + a**2*conjugate(r[3]) + conjugate(w)**3 - conjugate(w)**2*conjugate(r[3])\n",
      "\n",
      "\n",
      "\n",
      "p_1=\n",
      "\n",
      " a**2*w*conjugate(w) - a**2*w*conjugate(r[3]) + 3*a**2*conjugate(w)*r[3] - 3*a**2*conjugate(r[3])*r[3] - a**2*e[1] - a**2*e[2] - a*conjugate(w)*e[1] + a*conjugate(w)*e[2] + a*conjugate(r[3])*e[1] - a*conjugate(r[3])*e[2] - w*conjugate(w)**3 + w*conjugate(w)**2*conjugate(r[3]) - 3*conjugate(w)**3*r[3] + 3*conjugate(w)**2*conjugate(r[3])*r[3] + 2*conjugate(w)**2 + conjugate(w)*conjugate(r[3])*e[1] + conjugate(w)*conjugate(r[3])*e[2] - 2*conjugate(w)*conjugate(r[3])\n",
      "\n",
      "\n",
      "\n",
      "p_2=\n",
      "\n",
      " 3*a**4*conjugate(w) - 3*a**4*conjugate(r[3]) - a**3*e[1] + a**3*e[2] - 3*a**2*w*conjugate(w)*r[3] + 3*a**2*w*conjugate(r[3])*r[3] + a**2*w - 3*a**2*conjugate(w)**3 + 3*a**2*conjugate(w)**2*conjugate(r[3]) - 3*a**2*conjugate(w)*r[3]**2 + 3*a**2*conjugate(r[3])*r[3]**2 + 4*a**2*e[1]*r[3] + 4*a**2*e[2]*r[3] - a**2*r[3] + 3*a*conjugate(w)**2*e[1] - 3*a*conjugate(w)**2*e[2] - 2*a*conjugate(w)*conjugate(r[3])*e[1] + 2*a*conjugate(w)*conjugate(r[3])*e[2] + 3*a*conjugate(w)*e[1]*r[3] - 3*a*conjugate(w)*e[2]*r[3] - 3*a*conjugate(r[3])*e[1]*r[3] + 3*a*conjugate(r[3])*e[2]*r[3] - a*e[1] + a*e[2] + 3*w*conjugate(w)**3*r[3] - 3*w*conjugate(w)**2*conjugate(r[3])*r[3] - 3*w*conjugate(w)**2 + 2*w*conjugate(w)*conjugate(r[3]) + 3*conjugate(w)**3*r[3]**2 - 3*conjugate(w)**2*conjugate(r[3])*r[3]**2 - 3*conjugate(w)**2*e[1]*r[3] - 3*conjugate(w)**2*e[2]*r[3] - 3*conjugate(w)**2*r[3] - conjugate(w)*conjugate(r[3])*e[1]*r[3] - conjugate(w)*conjugate(r[3])*e[2]*r[3] + 4*conjugate(w)*conjugate(r[3])*r[3] + conjugate(w) + conjugate(r[3])*e[1] + conjugate(r[3])*e[2] - conjugate(r[3])\n",
      "\n",
      "\n",
      "\n",
      "p_3=\n",
      "\n",
      " -3*a**4*w*conjugate(w) + 3*a**4*w*conjugate(r[3]) - 9*a**4*conjugate(w)*r[3] + 9*a**4*conjugate(r[3])*r[3] + 2*a**4*e[1] + 2*a**4*e[2] + a**3*w*e[1] - a**3*w*e[2] + 3*a**3*conjugate(w)*e[1] - 3*a**3*conjugate(w)*e[2] - 3*a**3*conjugate(r[3])*e[1] + 3*a**3*conjugate(r[3])*e[2] + 3*a**3*e[1]*r[3] - 3*a**3*e[2]*r[3] + 3*a**2*w*conjugate(w)**3 - 3*a**2*w*conjugate(w)**2*conjugate(r[3]) + 3*a**2*w*conjugate(w)*r[3]**2 - 3*a**2*w*conjugate(r[3])*r[3]**2 - a**2*w*e[1]*r[3] - a**2*w*e[2]*r[3] - 2*a**2*w*r[3] + 9*a**2*conjugate(w)**3*r[3] - 9*a**2*conjugate(w)**2*conjugate(r[3])*r[3] + 3*a**2*conjugate(w)**2*e[1] + 3*a**2*conjugate(w)**2*e[2] - 6*a**2*conjugate(w)**2 - 5*a**2*conjugate(w)*conjugate(r[3])*e[1] - 5*a**2*conjugate(w)*conjugate(r[3])*e[2] + 6*a**2*conjugate(w)*conjugate(r[3]) + a**2*conjugate(w)*r[3]**3 - a**2*conjugate(r[3])*r[3]**3 - a**2*e[1]**2 + 2*a**2*e[1]*e[2] - 5*a**2*e[1]*r[3]**2 - a**2*e[2]**2 - 5*a**2*e[2]*r[3]**2 + 2*a**2*r[3]**2 - 3*a*w*conjugate(w)**2*e[1] + 3*a*w*conjugate(w)**2*e[2] + 2*a*w*conjugate(w)*conjugate(r[3])*e[1] - 2*a*w*conjugate(w)*conjugate(r[3])*e[2] - 9*a*conjugate(w)**2*e[1]*r[3] + 9*a*conjugate(w)**2*e[2]*r[3] + 6*a*conjugate(w)*conjugate(r[3])*e[1]*r[3] - 6*a*conjugate(w)*conjugate(r[3])*e[2]*r[3] - 3*a*conjugate(w)*e[1]*r[3]**2 + 4*a*conjugate(w)*e[1] + 3*a*conjugate(w)*e[2]*r[3]**2 - 4*a*conjugate(w)*e[2] + a*conjugate(r[3])*e[1]**2 + 3*a*conjugate(r[3])*e[1]*r[3]**2 - 2*a*conjugate(r[3])*e[1] - a*conjugate(r[3])*e[2]**2 - 3*a*conjugate(r[3])*e[2]*r[3]**2 + 2*a*conjugate(r[3])*e[2] + a*e[1]**2*r[3] + 2*a*e[1]*r[3] - a*e[2]**2*r[3] - 2*a*e[2]*r[3] - 3*w*conjugate(w)**3*r[3]**2 + 3*w*conjugate(w)**2*conjugate(r[3])*r[3]**2 + 3*w*conjugate(w)**2*e[1]*r[3] + 3*w*conjugate(w)**2*e[2]*r[3] + 6*w*conjugate(w)**2*r[3] - 2*w*conjugate(w)*conjugate(r[3])*e[1]*r[3] - 2*w*conjugate(w)*conjugate(r[3])*e[2]*r[3] - 4*w*conjugate(w)*conjugate(r[3])*r[3] - 3*w*conjugate(w) + w*conjugate(r[3]) - conjugate(w)**3*r[3]**3 + conjugate(w)**2*conjugate(r[3])*r[3]**3 + 6*conjugate(w)**2*e[1]*r[3]**2 + 6*conjugate(w)**2*e[2]*r[3]**2 - conjugate(w)*conjugate(r[3])*e[1]*r[3]**2 - conjugate(w)*conjugate(r[3])*e[2]*r[3]**2 - 2*conjugate(w)*conjugate(r[3])*r[3]**2 - 4*conjugate(w)*e[1]*r[3] - 4*conjugate(w)*e[2]*r[3] + conjugate(w)*r[3] - conjugate(r[3])*e[1]**2*r[3] - 2*conjugate(r[3])*e[1]*e[2]*r[3] - conjugate(r[3])*e[2]**2*r[3] + conjugate(r[3])*r[3]\n",
      "\n",
      "\n",
      "\n",
      "p_4=\n",
      "\n",
      " -3*a**6*conjugate(w) + 3*a**6*conjugate(r[3]) + 2*a**5*e[1] - 2*a**5*e[2] + 9*a**4*w*conjugate(w)*r[3] - 9*a**4*w*conjugate(r[3])*r[3] + a**4*w*e[1] + a**4*w*e[2] - 3*a**4*w + 3*a**4*conjugate(w)**3 - 3*a**4*conjugate(w)**2*conjugate(r[3]) + 9*a**4*conjugate(w)*r[3]**2 - 9*a**4*conjugate(r[3])*r[3]**2 - 9*a**4*e[1]*r[3] - 9*a**4*e[2]*r[3] + 3*a**4*r[3] - 3*a**3*w*e[1]*r[3] + 3*a**3*w*e[2]*r[3] - 6*a**3*conjugate(w)**2*e[1] + 6*a**3*conjugate(w)**2*e[2] + 4*a**3*conjugate(w)*conjugate(r[3])*e[1] - 4*a**3*conjugate(w)*conjugate(r[3])*e[2] - 9*a**3*conjugate(w)*e[1]*r[3] + 9*a**3*conjugate(w)*e[2]*r[3] + 9*a**3*conjugate(r[3])*e[1]*r[3] - 9*a**3*conjugate(r[3])*e[2]*r[3] - a**3*e[1]**2 - 3*a**3*e[1]*r[3]**2 + 3*a**3*e[1] + a**3*e[2]**2 + 3*a**3*e[2]*r[3]**2 - 3*a**3*e[2] - 9*a**2*w*conjugate(w)**3*r[3] + 9*a**2*w*conjugate(w)**2*conjugate(r[3])*r[3] - 3*a**2*w*conjugate(w)**2*e[1] - 3*a**2*w*conjugate(w)**2*e[2] + 9*a**2*w*conjugate(w)**2 + 2*a**2*w*conjugate(w)*conjugate(r[3])*e[1] + 2*a**2*w*conjugate(w)*conjugate(r[3])*e[2] - 6*a**2*w*conjugate(w)*conjugate(r[3]) - a**2*w*conjugate(w)*r[3]**3 + a**2*w*conjugate(r[3])*r[3]**3 + 2*a**2*w*e[1]*r[3]**2 + 2*a**2*w*e[2]*r[3]**2 + a**2*w*r[3]**2 - 9*a**2*conjugate(w)**3*r[3]**2 + 9*a**2*conjugate(w)**2*conjugate(r[3])*r[3]**2 + 9*a**2*conjugate(w)**2*r[3] + 9*a**2*conjugate(w)*conjugate(r[3])*e[1]*r[3] + 9*a**2*conjugate(w)*conjugate(r[3])*e[2]*r[3] - 12*a**2*conjugate(w)*conjugate(r[3])*r[3] + 3*a**2*conjugate(w)*e[1]**2 - 6*a**2*conjugate(w)*e[1]*e[2] + 4*a**2*conjugate(w)*e[1] + 3*a**2*conjugate(w)*e[2]**2 + 4*a**2*conjugate(w)*e[2] - 3*a**2*conjugate(w) + 4*a**2*conjugate(r[3])*e[1]*e[2] - 5*a**2*conjugate(r[3])*e[1] - 5*a**2*conjugate(r[3])*e[2] + 3*a**2*conjugate(r[3]) + 3*a**2*e[1]**2*r[3] - 6*a**2*e[1]*e[2]*r[3] + 2*a**2*e[1]*r[3]**3 + 3*a**2*e[2]**2*r[3] + 2*a**2*e[2]*r[3]**3 - a**2*r[3]**3 + 9*a*w*conjugate(w)**2*e[1]*r[3] - 9*a*w*conjugate(w)**2*e[2]*r[3] - 6*a*w*conjugate(w)*conjugate(r[3])*e[1]*r[3] + 6*a*w*conjugate(w)*conjugate(r[3])*e[2]*r[3] - 6*a*w*conjugate(w)*e[1] + 6*a*w*conjugate(w)*e[2] + 2*a*w*conjugate(r[3])*e[1] - 2*a*w*conjugate(r[3])*e[2] + 9*a*conjugate(w)**2*e[1]*r[3]**2 - 9*a*conjugate(w)**2*e[2]*r[3]**2 - 6*a*conjugate(w)*conjugate(r[3])*e[1]*r[3]**2 + 6*a*conjugate(w)*conjugate(r[3])*e[2]*r[3]**2 - 6*a*conjugate(w)*e[1]**2*r[3] + a*conjugate(w)*e[1]*r[3]**3 - 6*a*conjugate(w)*e[1]*r[3] + 6*a*conjugate(w)*e[2]**2*r[3] - a*conjugate(w)*e[2]*r[3]**3 + 6*a*conjugate(w)*e[2]*r[3] - a*conjugate(r[3])*e[1]**2*r[3] - a*conjugate(r[3])*e[1]*r[3]**3 + 4*a*conjugate(r[3])*e[1]*r[3] + a*conjugate(r[3])*e[2]**2*r[3] + a*conjugate(r[3])*e[2]*r[3]**3 - 4*a*conjugate(r[3])*e[2]*r[3] - 2*a*e[1]**2*r[3]**2 - a*e[1]*r[3]**2 + a*e[1] + 2*a*e[2]**2*r[3]**2 + a*e[2]*r[3]**2 - a*e[2] + w*conjugate(w)**3*r[3]**3 - w*conjugate(w)**2*conjugate(r[3])*r[3]**3 - 6*w*conjugate(w)**2*e[1]*r[3]**2 - 6*w*conjugate(w)**2*e[2]*r[3]**2 - 3*w*conjugate(w)**2*r[3]**2 + 4*w*conjugate(w)*conjugate(r[3])*e[1]*r[3]**2 + 4*w*conjugate(w)*conjugate(r[3])*e[2]*r[3]**2 + 2*w*conjugate(w)*conjugate(r[3])*r[3]**2 + 6*w*conjugate(w)*e[1]*r[3] + 6*w*conjugate(w)*e[2]*r[3] + 3*w*conjugate(w)*r[3] - 2*w*conjugate(r[3])*e[1]*r[3] - 2*w*conjugate(r[3])*e[2]*r[3] - w*conjugate(r[3])*r[3] - w - 3*conjugate(w)**2*e[1]*r[3]**3 - 3*conjugate(w)**2*e[2]*r[3]**3 + conjugate(w)**2*r[3]**3 + conjugate(w)*conjugate(r[3])*e[1]*r[3]**3 + conjugate(w)*conjugate(r[3])*e[2]*r[3]**3 + 3*conjugate(w)*e[1]**2*r[3]**2 + 6*conjugate(w)*e[1]*e[2]*r[3]**2 + 2*conjugate(w)*e[1]*r[3]**2 + 3*conjugate(w)*e[2]**2*r[3]**2 + 2*conjugate(w)*e[2]*r[3]**2 - 2*conjugate(w)*r[3]**2 + conjugate(r[3])*e[1]**2*r[3]**2 + 2*conjugate(r[3])*e[1]*e[2]*r[3]**2 - conjugate(r[3])*e[1]*r[3]**2 + conjugate(r[3])*e[2]**2*r[3]**2 - conjugate(r[3])*e[2]*r[3]**2 - e[1]*r[3] - e[2]*r[3] + r[3]\n",
      "\n",
      "\n",
      "\n",
      "p_5=\n",
      "\n",
      " 3*a**6*w*conjugate(w) - 3*a**6*w*conjugate(r[3]) + 9*a**6*conjugate(w)*r[3] - 9*a**6*conjugate(r[3])*r[3] - a**6*e[1] - a**6*e[2] - 2*a**5*w*e[1] + 2*a**5*w*e[2] - 3*a**5*conjugate(w)*e[1] + 3*a**5*conjugate(w)*e[2] + 3*a**5*conjugate(r[3])*e[1] - 3*a**5*conjugate(r[3])*e[2] - 6*a**5*e[1]*r[3] + 6*a**5*e[2]*r[3] - 3*a**4*w*conjugate(w)**3 + 3*a**4*w*conjugate(w)**2*conjugate(r[3]) - 9*a**4*w*conjugate(w)*r[3]**2 + 9*a**4*w*conjugate(r[3])*r[3]**2 + 6*a**4*w*r[3] - 9*a**4*conjugate(w)**3*r[3] + 9*a**4*conjugate(w)**2*conjugate(r[3])*r[3] - 6*a**4*conjugate(w)**2*e[1] - 6*a**4*conjugate(w)**2*e[2] + 6*a**4*conjugate(w)**2 + 7*a**4*conjugate(w)*conjugate(r[3])*e[1] + 7*a**4*conjugate(w)*conjugate(r[3])*e[2] - 6*a**4*conjugate(w)*conjugate(r[3]) - 3*a**4*conjugate(w)*r[3]**3 + 3*a**4*conjugate(r[3])*r[3]**3 + 2*a**4*e[1]**2 - 4*a**4*e[1]*e[2] + 12*a**4*e[1]*r[3]**2 + 2*a**4*e[2]**2 + 12*a**4*e[2]*r[3]**2 - 6*a**4*r[3]**2 + 6*a**3*w*conjugate(w)**2*e[1] - 6*a**3*w*conjugate(w)**2*e[2] - 4*a**3*w*conjugate(w)*conjugate(r[3])*e[1] + 4*a**3*w*conjugate(w)*conjugate(r[3])*e[2] + 3*a**3*w*e[1]*r[3]**2 - 3*a**3*w*e[2]*r[3]**2 + 18*a**3*conjugate(w)**2*e[1]*r[3] - 18*a**3*conjugate(w)**2*e[2]*r[3] - 12*a**3*conjugate(w)*conjugate(r[3])*e[1]*r[3] + 12*a**3*conjugate(w)*conjugate(r[3])*e[2]*r[3] + 6*a**3*conjugate(w)*e[1]**2 + 9*a**3*conjugate(w)*e[1]*r[3]**2 - 8*a**3*conjugate(w)*e[1] - 6*a**3*conjugate(w)*e[2]**2 - 9*a**3*conjugate(w)*e[2]*r[3]**2 + 8*a**3*conjugate(w)*e[2] - 4*a**3*conjugate(r[3])*e[1]**2 - 9*a**3*conjugate(r[3])*e[1]*r[3]**2 + 4*a**3*conjugate(r[3])*e[1] + 4*a**3*conjugate(r[3])*e[2]**2 + 9*a**3*conjugate(r[3])*e[2]*r[3]**2 - 4*a**3*conjugate(r[3])*e[2] + a**3*e[1]*r[3]**3 - 6*a**3*e[1]*r[3] - a**3*e[2]*r[3]**3 + 6*a**3*e[2]*r[3] + 9*a**2*w*conjugate(w)**3*r[3]**2 - 9*a**2*w*conjugate(w)**2*conjugate(r[3])*r[3]**2 - 18*a**2*w*conjugate(w)**2*r[3] + 12*a**2*w*conjugate(w)*conjugate(r[3])*r[3] - 3*a**2*w*conjugate(w)*e[1]**2 + 6*a**2*w*conjugate(w)*e[1]*e[2] - 6*a**2*w*conjugate(w)*e[1] - 3*a**2*w*conjugate(w)*e[2]**2 - 6*a**2*w*conjugate(w)*e[2] + 9*a**2*w*conjugate(w) + a**2*w*conjugate(r[3])*e[1]**2 - 2*a**2*w*conjugate(r[3])*e[1]*e[2] + 2*a**2*w*conjugate(r[3])*e[1] + a**2*w*conjugate(r[3])*e[2]**2 + 2*a**2*w*conjugate(r[3])*e[2] - 3*a**2*w*conjugate(r[3]) - a**2*w*e[1]*r[3]**3 - a**2*w*e[2]*r[3]**3 + 3*a**2*conjugate(w)**3*r[3]**3 - 3*a**2*conjugate(w)**2*conjugate(r[3])*r[3]**3 - 9*a**2*conjugate(w)**2*e[1]*r[3]**2 - 9*a**2*conjugate(w)**2*e[2]*r[3]**2 - 3*a**2*conjugate(w)*conjugate(r[3])*e[1]*r[3]**2 - 3*a**2*conjugate(w)*conjugate(r[3])*e[2]*r[3]**2 + 6*a**2*conjugate(w)*conjugate(r[3])*r[3]**2 - 15*a**2*conjugate(w)*e[1]**2*r[3] + 6*a**2*conjugate(w)*e[1]*e[2]*r[3] + 6*a**2*conjugate(w)*e[1]*r[3] - 15*a**2*conjugate(w)*e[2]**2*r[3] + 6*a**2*conjugate(w)*e[2]*r[3] - 3*a**2*conjugate(w)*r[3] + 5*a**2*conjugate(r[3])*e[1]**2*r[3] - 2*a**2*conjugate(r[3])*e[1]*e[2]*r[3] + 4*a**2*conjugate(r[3])*e[1]*r[3] + 5*a**2*conjugate(r[3])*e[2]**2*r[3] + 4*a**2*conjugate(r[3])*e[2]*r[3] - 3*a**2*conjugate(r[3])*r[3] - 3*a**2*e[1]**2*r[3]**2 + 2*a**2*e[1]**2 + 6*a**2*e[1]*e[2]*r[3]**2 - 4*a**2*e[1]*e[2] + a**2*e[1] - 3*a**2*e[2]**2*r[3]**2 + 2*a**2*e[2]**2 + a**2*e[2] - 9*a*w*conjugate(w)**2*e[1]*r[3]**2 + 9*a*w*conjugate(w)**2*e[2]*r[3]**2 + 6*a*w*conjugate(w)*conjugate(r[3])*e[1]*r[3]**2 - 6*a*w*conjugate(w)*conjugate(r[3])*e[2]*r[3]**2 + 6*a*w*conjugate(w)*e[1]**2*r[3] + 12*a*w*conjugate(w)*e[1]*r[3] - 6*a*w*conjugate(w)*e[2]**2*r[3] - 12*a*w*conjugate(w)*e[2]*r[3] - 2*a*w*conjugate(r[3])*e[1]**2*r[3] - 4*a*w*conjugate(r[3])*e[1]*r[3] + 2*a*w*conjugate(r[3])*e[2]**2*r[3] + 4*a*w*conjugate(r[3])*e[2]*r[3] - 3*a*w*e[1] + 3*a*w*e[2] - 3*a*conjugate(w)**2*e[1]*r[3]**3 + 3*a*conjugate(w)**2*e[2]*r[3]**3 + 2*a*conjugate(w)*conjugate(r[3])*e[1]*r[3]**3 - 2*a*conjugate(w)*conjugate(r[3])*e[2]*r[3]**3 + 12*a*conjugate(w)*e[1]**2*r[3]**2 - 12*a*conjugate(w)*e[2]**2*r[3]**2 - a*conjugate(r[3])*e[1]**2*r[3]**2 - 2*a*conjugate(r[3])*e[1]*r[3]**2 + a*conjugate(r[3])*e[2]**2*r[3]**2 + 2*a*conjugate(r[3])*e[2]*r[3]**2 + a*e[1]**2*r[3]**3 - 4*a*e[1]**2*r[3] + a*e[1]*r[3] - a*e[2]**2*r[3]**3 + 4*a*e[2]**2*r[3] - a*e[2]*r[3] + 3*w*conjugate(w)**2*e[1]*r[3]**3 + 3*w*conjugate(w)**2*e[2]*r[3]**3 - 2*w*conjugate(w)*conjugate(r[3])*e[1]*r[3]**3 - 2*w*conjugate(w)*conjugate(r[3])*e[2]*r[3]**3 - 3*w*conjugate(w)*e[1]**2*r[3]**2 - 6*w*conjugate(w)*e[1]*e[2]*r[3]**2 - 6*w*conjugate(w)*e[1]*r[3]**2 - 3*w*conjugate(w)*e[2]**2*r[3]**2 - 6*w*conjugate(w)*e[2]*r[3]**2 + w*conjugate(r[3])*e[1]**2*r[3]**2 + 2*w*conjugate(r[3])*e[1]*e[2]*r[3]**2 + 2*w*conjugate(r[3])*e[1]*r[3]**2 + w*conjugate(r[3])*e[2]**2*r[3]**2 + 2*w*conjugate(r[3])*e[2]*r[3]**2 + 3*w*e[1]*r[3] + 3*w*e[2]*r[3] - 3*conjugate(w)*e[1]**2*r[3]**3 - 6*conjugate(w)*e[1]*e[2]*r[3]**3 + 2*conjugate(w)*e[1]*r[3]**3 - 3*conjugate(w)*e[2]**2*r[3]**3 + 2*conjugate(w)*e[2]*r[3]**3 + 2*e[1]**2*r[3]**2 + 4*e[1]*e[2]*r[3]**2 - 2*e[1]*r[3]**2 + 2*e[2]**2*r[3]**2 - 2*e[2]*r[3]**2\n",
      "\n",
      "\n",
      "\n",
      "p_6=\n",
      "\n",
      " a**8*conjugate(w) - a**8*conjugate(r[3]) - a**7*e[1] + a**7*e[2] - 9*a**6*w*conjugate(w)*r[3] + 9*a**6*w*conjugate(r[3])*r[3] - 2*a**6*w*e[1] - 2*a**6*w*e[2] + 3*a**6*w - a**6*conjugate(w)**3 + a**6*conjugate(w)**2*conjugate(r[3]) - 9*a**6*conjugate(w)*r[3]**2 + 9*a**6*conjugate(r[3])*r[3]**2 + 6*a**6*e[1]*r[3] + 6*a**6*e[2]*r[3] - 3*a**6*r[3] + 6*a**5*w*e[1]*r[3] - 6*a**5*w*e[2]*r[3] + 3*a**5*conjugate(w)**2*e[1] - 3*a**5*conjugate(w)**2*e[2] - 2*a**5*conjugate(w)*conjugate(r[3])*e[1] + 2*a**5*conjugate(w)*conjugate(r[3])*e[2] + 9*a**5*conjugate(w)*e[1]*r[3] - 9*a**5*conjugate(w)*e[2]*r[3] - 9*a**5*conjugate(r[3])*e[1]*r[3] + 9*a**5*conjugate(r[3])*e[2]*r[3] + 2*a**5*e[1]**2 + 6*a**5*e[1]*r[3]**2 - 3*a**5*e[1] - 2*a**5*e[2]**2 - 6*a**5*e[2]*r[3]**2 + 3*a**5*e[2] + 9*a**4*w*conjugate(w)**3*r[3] - 9*a**4*w*conjugate(w)**2*conjugate(r[3])*r[3] + 6*a**4*w*conjugate(w)**2*e[1] + 6*a**4*w*conjugate(w)**2*e[2] - 9*a**4*w*conjugate(w)**2 - 4*a**4*w*conjugate(w)*conjugate(r[3])*e[1] - 4*a**4*w*conjugate(w)*conjugate(r[3])*e[2] + 6*a**4*w*conjugate(w)*conjugate(r[3]) + 3*a**4*w*conjugate(w)*r[3]**3 - 3*a**4*w*conjugate(r[3])*r[3]**3 - 3*a**4*w*e[1]*r[3]**2 - 3*a**4*w*e[2]*r[3]**2 - 3*a**4*w*r[3]**2 + 9*a**4*conjugate(w)**3*r[3]**2 - 9*a**4*conjugate(w)**2*conjugate(r[3])*r[3]**2 + 9*a**4*conjugate(w)**2*e[1]*r[3] + 9*a**4*conjugate(w)**2*e[2]*r[3] - 9*a**4*conjugate(w)**2*r[3] - 15*a**4*conjugate(w)*conjugate(r[3])*e[1]*r[3] - 15*a**4*conjugate(w)*conjugate(r[3])*e[2]*r[3] + 12*a**4*conjugate(w)*conjugate(r[3])*r[3] + 12*a**4*conjugate(w)*e[1]*e[2] - 8*a**4*conjugate(w)*e[1] - 8*a**4*conjugate(w)*e[2] + 3*a**4*conjugate(w) - 2*a**4*conjugate(r[3])*e[1]**2 - 8*a**4*conjugate(r[3])*e[1]*e[2] + 7*a**4*conjugate(r[3])*e[1] - 2*a**4*conjugate(r[3])*e[2]**2 + 7*a**4*conjugate(r[3])*e[2] - 3*a**4*conjugate(r[3]) - 6*a**4*e[1]**2*r[3] + 12*a**4*e[1]*e[2]*r[3] - 5*a**4*e[1]*r[3]**3 - 6*a**4*e[2]**2*r[3] - 5*a**4*e[2]*r[3]**3 + 3*a**4*r[3]**3 - 18*a**3*w*conjugate(w)**2*e[1]*r[3] + 18*a**3*w*conjugate(w)**2*e[2]*r[3] + 12*a**3*w*conjugate(w)*conjugate(r[3])*e[1]*r[3] - 12*a**3*w*conjugate(w)*conjugate(r[3])*e[2]*r[3] - 6*a**3*w*conjugate(w)*e[1]**2 + 12*a**3*w*conjugate(w)*e[1] + 6*a**3*w*conjugate(w)*e[2]**2 - 12*a**3*w*conjugate(w)*e[2] + 2*a**3*w*conjugate(r[3])*e[1]**2 - 4*a**3*w*conjugate(r[3])*e[1] - 2*a**3*w*conjugate(r[3])*e[2]**2 + 4*a**3*w*conjugate(r[3])*e[2] - a**3*w*e[1]*r[3]**3 + a**3*w*e[2]*r[3]**3 - 18*a**3*conjugate(w)**2*e[1]*r[3]**2 + 18*a**3*conjugate(w)**2*e[2]*r[3]**2 + 12*a**3*conjugate(w)*conjugate(r[3])*e[1]*r[3]**2 - 12*a**3*conjugate(w)*conjugate(r[3])*e[2]*r[3]**2 - 6*a**3*conjugate(w)*e[1]**2*r[3] - 3*a**3*conjugate(w)*e[1]*r[3]**3 + 12*a**3*conjugate(w)*e[1]*r[3] + 6*a**3*conjugate(w)*e[2]**2*r[3] + 3*a**3*conjugate(w)*e[2]*r[3]**3 - 12*a**3*conjugate(w)*e[2]*r[3] + 8*a**3*conjugate(r[3])*e[1]**2*r[3] + 3*a**3*conjugate(r[3])*e[1]*r[3]**3 - 8*a**3*conjugate(r[3])*e[1]*r[3] - 8*a**3*conjugate(r[3])*e[2]**2*r[3] - 3*a**3*conjugate(r[3])*e[2]*r[3]**3 + 8*a**3*conjugate(r[3])*e[2]*r[3] + a**3*e[1]**3 - 3*a**3*e[1]**2*e[2] + 3*a**3*e[1]**2*r[3]**2 + 4*a**3*e[1]**2 + 3*a**3*e[1]*e[2]**2 + 3*a**3*e[1]*r[3]**2 - 2*a**3*e[1] - a**3*e[2]**3 - 3*a**3*e[2]**2*r[3]**2 - 4*a**3*e[2]**2 - 3*a**3*e[2]*r[3]**2 + 2*a**3*e[2] - 3*a**2*w*conjugate(w)**3*r[3]**3 + 3*a**2*w*conjugate(w)**2*conjugate(r[3])*r[3]**3 + 9*a**2*w*conjugate(w)**2*e[1]*r[3]**2 + 9*a**2*w*conjugate(w)**2*e[2]*r[3]**2 + 9*a**2*w*conjugate(w)**2*r[3]**2 - 6*a**2*w*conjugate(w)*conjugate(r[3])*e[1]*r[3]**2 - 6*a**2*w*conjugate(w)*conjugate(r[3])*e[2]*r[3]**2 - 6*a**2*w*conjugate(w)*conjugate(r[3])*r[3]**2 + 15*a**2*w*conjugate(w)*e[1]**2*r[3] - 6*a**2*w*conjugate(w)*e[1]*e[2]*r[3] - 6*a**2*w*conjugate(w)*e[1]*r[3] + 15*a**2*w*conjugate(w)*e[2]**2*r[3] - 6*a**2*w*conjugate(w)*e[2]*r[3] - 9*a**2*w*conjugate(w)*r[3] - 5*a**2*w*conjugate(r[3])*e[1]**2*r[3] + 2*a**2*w*conjugate(r[3])*e[1]*e[2]*r[3] + 2*a**2*w*conjugate(r[3])*e[1]*r[3] - 5*a**2*w*conjugate(r[3])*e[2]**2*r[3] + 2*a**2*w*conjugate(r[3])*e[2]*r[3] + 3*a**2*w*conjugate(r[3])*r[3] - 3*a**2*w*e[1]**2 + 6*a**2*w*e[1]*e[2] - 3*a**2*w*e[1] - 3*a**2*w*e[2]**2 - 3*a**2*w*e[2] + 3*a**2*w + 6*a**2*conjugate(w)**2*e[1]*r[3]**3 + 6*a**2*conjugate(w)**2*e[2]*r[3]**3 - 3*a**2*conjugate(w)**2*r[3]**3 - a**2*conjugate(w)*conjugate(r[3])*e[1]*r[3]**3 - a**2*conjugate(w)*conjugate(r[3])*e[2]*r[3]**3 + 12*a**2*conjugate(w)*e[1]**2*r[3]**2 - 12*a**2*conjugate(w)*e[1]*e[2]*r[3]**2 - 6*a**2*conjugate(w)*e[1]*r[3]**2 + 12*a**2*conjugate(w)*e[2]**2*r[3]**2 - 6*a**2*conjugate(w)*e[2]*r[3]**2 + 6*a**2*conjugate(w)*r[3]**2 - 7*a**2*conjugate(r[3])*e[1]**2*r[3]**2 - 2*a**2*conjugate(r[3])*e[1]*e[2]*r[3]**2 + a**2*conjugate(r[3])*e[1]*r[3]**2 - 7*a**2*conjugate(r[3])*e[2]**2*r[3]**2 + a**2*conjugate(r[3])*e[2]*r[3]**2 - 3*a**2*e[1]**3*r[3] + 3*a**2*e[1]**2*e[2]*r[3] + a**2*e[1]**2*r[3]**3 - 7*a**2*e[1]**2*r[3] + 3*a**2*e[1]*e[2]**2*r[3] - 2*a**2*e[1]*e[2]*r[3]**3 - 2*a**2*e[1]*e[2]*r[3] + 4*a**2*e[1]*r[3] - 3*a**2*e[2]**3*r[3] + a**2*e[2]**2*r[3]**3 - 7*a**2*e[2]**2*r[3] + 4*a**2*e[2]*r[3] - 3*a**2*r[3] + 3*a*w*conjugate(w)**2*e[1]*r[3]**3 - 3*a*w*conjugate(w)**2*e[2]*r[3]**3 - 2*a*w*conjugate(w)*conjugate(r[3])*e[1]*r[3]**3 + 2*a*w*conjugate(w)*conjugate(r[3])*e[2]*r[3]**3 - 12*a*w*conjugate(w)*e[1]**2*r[3]**2 - 6*a*w*conjugate(w)*e[1]*r[3]**2 + 12*a*w*conjugate(w)*e[2]**2*r[3]**2 + 6*a*w*conjugate(w)*e[2]*r[3]**2 + 4*a*w*conjugate(r[3])*e[1]**2*r[3]**2 + 2*a*w*conjugate(r[3])*e[1]*r[3]**2 - 4*a*w*conjugate(r[3])*e[2]**2*r[3]**2 - 2*a*w*conjugate(r[3])*e[2]*r[3]**2 + 6*a*w*e[1]**2*r[3] + 3*a*w*e[1]*r[3] - 6*a*w*e[2]**2*r[3] - 3*a*w*e[2]*r[3] - 6*a*conjugate(w)*e[1]**2*r[3]**3 + 2*a*conjugate(w)*e[1]*r[3]**3 + 6*a*conjugate(w)*e[2]**2*r[3]**3 - 2*a*conjugate(w)*e[2]*r[3]**3 + a*conjugate(r[3])*e[1]**2*r[3]**3 - a*conjugate(r[3])*e[2]**2*r[3]**3 + 3*a*e[1]**3*r[3]**2 + 3*a*e[1]**2*e[2]*r[3]**2 + 2*a*e[1]**2*r[3]**2 - 3*a*e[1]*e[2]**2*r[3]**2 - 2*a*e[1]*r[3]**2 - 3*a*e[2]**3*r[3]**2 - 2*a*e[2]**2*r[3]**2 + 2*a*e[2]*r[3]**2 + 3*w*conjugate(w)*e[1]**2*r[3]**3 + 6*w*conjugate(w)*e[1]*e[2]*r[3]**3 + 3*w*conjugate(w)*e[2]**2*r[3]**3 - w*conjugate(r[3])*e[1]**2*r[3]**3 - 2*w*conjugate(r[3])*e[1]*e[2]*r[3]**3 - w*conjugate(r[3])*e[2]**2*r[3]**3 - 3*w*e[1]**2*r[3]**2 - 6*w*e[1]*e[2]*r[3]**2 - 3*w*e[2]**2*r[3]**2 - e[1]**3*r[3]**3 - 3*e[1]**2*e[2]*r[3]**3 + e[1]**2*r[3]**3 - 3*e[1]*e[2]**2*r[3]**3 + 2*e[1]*e[2]*r[3]**3 - e[2]**3*r[3]**3 + e[2]**2*r[3]**3\n",
      "\n",
      "\n",
      "\n",
      "p_7=\n",
      "\n",
      " -a**8*w*conjugate(w) + a**8*w*conjugate(r[3]) - 3*a**8*conjugate(w)*r[3] + 3*a**8*conjugate(r[3])*r[3] + a**7*w*e[1] - a**7*w*e[2] + a**7*conjugate(w)*e[1] - a**7*conjugate(w)*e[2] - a**7*conjugate(r[3])*e[1] + a**7*conjugate(r[3])*e[2] + 3*a**7*e[1]*r[3] - 3*a**7*e[2]*r[3] + a**6*w*conjugate(w)**3 - a**6*w*conjugate(w)**2*conjugate(r[3]) + 9*a**6*w*conjugate(w)*r[3]**2 - 9*a**6*w*conjugate(r[3])*r[3]**2 + 3*a**6*w*e[1]*r[3] + 3*a**6*w*e[2]*r[3] - 6*a**6*w*r[3] + 3*a**6*conjugate(w)**3*r[3] - 3*a**6*conjugate(w)**2*conjugate(r[3])*r[3] + 3*a**6*conjugate(w)**2*e[1] + 3*a**6*conjugate(w)**2*e[2] - 2*a**6*conjugate(w)**2 - 3*a**6*conjugate(w)*conjugate(r[3])*e[1] - 3*a**6*conjugate(w)*conjugate(r[3])*e[2] + 2*a**6*conjugate(w)*conjugate(r[3]) + 3*a**6*conjugate(w)*r[3]**3 - 3*a**6*conjugate(r[3])*r[3]**3 - a**6*e[1]**2 + 2*a**6*e[1]*e[2] - 9*a**6*e[1]*r[3]**2 - a**6*e[2]**2 - 9*a**6*e[2]*r[3]**2 + 6*a**6*r[3]**2 - 3*a**5*w*conjugate(w)**2*e[1] + 3*a**5*w*conjugate(w)**2*e[2] + 2*a**5*w*conjugate(w)*conjugate(r[3])*e[1] - 2*a**5*w*conjugate(w)*conjugate(r[3])*e[2] - 6*a**5*w*e[1]*r[3]**2 + 6*a**5*w*e[2]*r[3]**2 - 9*a**5*conjugate(w)**2*e[1]*r[3] + 9*a**5*conjugate(w)**2*e[2]*r[3] + 6*a**5*conjugate(w)*conjugate(r[3])*e[1]*r[3] - 6*a**5*conjugate(w)*conjugate(r[3])*e[2]*r[3] - 6*a**5*conjugate(w)*e[1]**2 - 9*a**5*conjugate(w)*e[1]*r[3]**2 + 4*a**5*conjugate(w)*e[1] + 6*a**5*conjugate(w)*e[2]**2 + 9*a**5*conjugate(w)*e[2]*r[3]**2 - 4*a**5*conjugate(w)*e[2] + 3*a**5*conjugate(r[3])*e[1]**2 + 9*a**5*conjugate(r[3])*e[1]*r[3]**2 - 2*a**5*conjugate(r[3])*e[1] - 3*a**5*conjugate(r[3])*e[2]**2 - 9*a**5*conjugate(r[3])*e[2]*r[3]**2 + 2*a**5*conjugate(r[3])*e[2] - 3*a**5*e[1]**2*r[3] - 2*a**5*e[1]*r[3]**3 + 6*a**5*e[1]*r[3] + 3*a**5*e[2]**2*r[3] + 2*a**5*e[2]*r[3]**3 - 6*a**5*e[2]*r[3] - 9*a**4*w*conjugate(w)**3*r[3]**2 + 9*a**4*w*conjugate(w)**2*conjugate(r[3])*r[3]**2 - 9*a**4*w*conjugate(w)**2*e[1]*r[3] - 9*a**4*w*conjugate(w)**2*e[2]*r[3] + 18*a**4*w*conjugate(w)**2*r[3] + 6*a**4*w*conjugate(w)*conjugate(r[3])*e[1]*r[3] + 6*a**4*w*conjugate(w)*conjugate(r[3])*e[2]*r[3] - 12*a**4*w*conjugate(w)*conjugate(r[3])*r[3] - 12*a**4*w*conjugate(w)*e[1]*e[2] + 12*a**4*w*conjugate(w)*e[1] + 12*a**4*w*conjugate(w)*e[2] - 9*a**4*w*conjugate(w) + 4*a**4*w*conjugate(r[3])*e[1]*e[2] - 4*a**4*w*conjugate(r[3])*e[1] - 4*a**4*w*conjugate(r[3])*e[2] + 3*a**4*w*conjugate(r[3]) + 2*a**4*w*e[1]*r[3]**3 + 2*a**4*w*e[2]*r[3]**3 - 3*a**4*conjugate(w)**3*r[3]**3 + 3*a**4*conjugate(w)**2*conjugate(r[3])*r[3]**3 + 9*a**4*conjugate(w)*conjugate(r[3])*e[1]*r[3]**2 + 9*a**4*conjugate(w)*conjugate(r[3])*e[2]*r[3]**2 - 6*a**4*conjugate(w)*conjugate(r[3])*r[3]**2 + 12*a**4*conjugate(w)*e[1]**2*r[3] - 12*a**4*conjugate(w)*e[1]*e[2]*r[3] + 12*a**4*conjugate(w)*e[2]**2*r[3] + 3*a**4*conjugate(w)*r[3] - a**4*conjugate(r[3])*e[1]**2*r[3] + 10*a**4*conjugate(r[3])*e[1]*e[2]*r[3] - 8*a**4*conjugate(r[3])*e[1]*r[3] - a**4*conjugate(r[3])*e[2]**2*r[3] - 8*a**4*conjugate(r[3])*e[2]*r[3] + 3*a**4*conjugate(r[3])*r[3] + 3*a**4*e[1]**3 - 3*a**4*e[1]**2*e[2] + 6*a**4*e[1]**2*r[3]**2 - 3*a**4*e[1]*e[2]**2 - 12*a**4*e[1]*e[2]*r[3]**2 + 8*a**4*e[1]*e[2] - 2*a**4*e[1] + 3*a**4*e[2]**3 + 6*a**4*e[2]**2*r[3]**2 - 2*a**4*e[2] + 18*a**3*w*conjugate(w)**2*e[1]*r[3]**2 - 18*a**3*w*conjugate(w)**2*e[2]*r[3]**2 - 12*a**3*w*conjugate(w)*conjugate(r[3])*e[1]*r[3]**2 + 12*a**3*w*conjugate(w)*conjugate(r[3])*e[2]*r[3]**2 + 6*a**3*w*conjugate(w)*e[1]**2*r[3] - 24*a**3*w*conjugate(w)*e[1]*r[3] - 6*a**3*w*conjugate(w)*e[2]**2*r[3] + 24*a**3*w*conjugate(w)*e[2]*r[3] - 2*a**3*w*conjugate(r[3])*e[1]**2*r[3] + 8*a**3*w*conjugate(r[3])*e[1]*r[3] + 2*a**3*w*conjugate(r[3])*e[2]**2*r[3] - 8*a**3*w*conjugate(r[3])*e[2]*r[3] - a**3*w*e[1]**3 + 3*a**3*w*e[1]**2*e[2] - 6*a**3*w*e[1]**2 - 3*a**3*w*e[1]*e[2]**2 + 6*a**3*w*e[1] + a**3*w*e[2]**3 + 6*a**3*w*e[2]**2 - 6*a**3*w*e[2] + 6*a**3*conjugate(w)**2*e[1]*r[3]**3 - 6*a**3*conjugate(w)**2*e[2]*r[3]**3 - 4*a**3*conjugate(w)*conjugate(r[3])*e[1]*r[3]**3 + 4*a**3*conjugate(w)*conjugate(r[3])*e[2]*r[3]**3 - 6*a**3*conjugate(w)*e[1]**2*r[3]**2 + 6*a**3*conjugate(w)*e[2]**2*r[3]**2 - 4*a**3*conjugate(r[3])*e[1]**2*r[3]**2 + 4*a**3*conjugate(r[3])*e[1]*r[3]**2 + 4*a**3*conjugate(r[3])*e[2]**2*r[3]**2 - 4*a**3*conjugate(r[3])*e[2]*r[3]**2 - 9*a**3*e[1]**3*r[3] + 3*a**3*e[1]**2*e[2]*r[3] - 2*a**3*e[1]**2*r[3]**3 + 2*a**3*e[1]**2*r[3] - 3*a**3*e[1]*e[2]**2*r[3] - 2*a**3*e[1]*r[3] + 9*a**3*e[2]**3*r[3] + 2*a**3*e[2]**2*r[3]**3 - 2*a**3*e[2]**2*r[3] + 2*a**3*e[2]*r[3] - 6*a**2*w*conjugate(w)**2*e[1]*r[3]**3 - 6*a**2*w*conjugate(w)**2*e[2]*r[3]**3 + 4*a**2*w*conjugate(w)*conjugate(r[3])*e[1]*r[3]**3 + 4*a**2*w*conjugate(w)*conjugate(r[3])*e[2]*r[3]**3 - 12*a**2*w*conjugate(w)*e[1]**2*r[3]**2 + 12*a**2*w*conjugate(w)*e[1]*e[2]*r[3]**2 + 12*a**2*w*conjugate(w)*e[1]*r[3]**2 - 12*a**2*w*conjugate(w)*e[2]**2*r[3]**2 + 12*a**2*w*conjugate(w)*e[2]*r[3]**2 + 4*a**2*w*conjugate(r[3])*e[1]**2*r[3]**2 - 4*a**2*w*conjugate(r[3])*e[1]*e[2]*r[3]**2 - 4*a**2*w*conjugate(r[3])*e[1]*r[3]**2 + 4*a**2*w*conjugate(r[3])*e[2]**2*r[3]**2 - 4*a**2*w*conjugate(r[3])*e[2]*r[3]**2 + 3*a**2*w*e[1]**3*r[3] - 3*a**2*w*e[1]**2*e[2]*r[3] + 12*a**2*w*e[1]**2*r[3] - 3*a**2*w*e[1]*e[2]**2*r[3] - 6*a**2*w*e[1]*r[3] + 3*a**2*w*e[2]**3*r[3] + 12*a**2*w*e[2]**2*r[3] - 6*a**2*w*e[2]*r[3] + 12*a**2*conjugate(w)*e[1]*e[2]*r[3]**3 - 4*a**2*conjugate(w)*e[1]*r[3]**3 - 4*a**2*conjugate(w)*e[2]*r[3]**3 + 2*a**2*conjugate(r[3])*e[1]**2*r[3]**3 + 2*a**2*conjugate(r[3])*e[2]**2*r[3]**3 + 9*a**2*e[1]**3*r[3]**2 + 3*a**2*e[1]**2*e[2]*r[3]**2 - 4*a**2*e[1]**2*r[3]**2 + 3*a**2*e[1]*e[2]**2*r[3]**2 - 8*a**2*e[1]*e[2]*r[3]**2 + 4*a**2*e[1]*r[3]**2 + 9*a**2*e[2]**3*r[3]**2 - 4*a**2*e[2]**2*r[3]**2 + 4*a**2*e[2]*r[3]**2 + 6*a*w*conjugate(w)*e[1]**2*r[3]**3 - 6*a*w*conjugate(w)*e[2]**2*r[3]**3 - 2*a*w*conjugate(r[3])*e[1]**2*r[3]**3 + 2*a*w*conjugate(r[3])*e[2]**2*r[3]**3 - 3*a*w*e[1]**3*r[3]**2 - 3*a*w*e[1]**2*e[2]*r[3]**2 - 6*a*w*e[1]**2*r[3]**2 + 3*a*w*e[1]*e[2]**2*r[3]**2 + 3*a*w*e[2]**3*r[3]**2 + 6*a*w*e[2]**2*r[3]**2 - 3*a*e[1]**3*r[3]**3 - 3*a*e[1]**2*e[2]*r[3]**3 + 2*a*e[1]**2*r[3]**3 + 3*a*e[1]*e[2]**2*r[3]**3 + 3*a*e[2]**3*r[3]**3 - 2*a*e[2]**2*r[3]**3 + w*e[1]**3*r[3]**3 + 3*w*e[1]**2*e[2]*r[3]**3 + 3*w*e[1]*e[2]**2*r[3]**3 + w*e[2]**3*r[3]**3\n",
      "\n",
      "\n",
      "\n",
      "p_8=\n",
      "\n",
      " 3*a**8*w*conjugate(w)*r[3] - 3*a**8*w*conjugate(r[3])*r[3] + a**8*w*e[1] + a**8*w*e[2] - a**8*w + 3*a**8*conjugate(w)*r[3]**2 - 3*a**8*conjugate(r[3])*r[3]**2 - a**8*e[1]*r[3] - a**8*e[2]*r[3] + a**8*r[3] - 3*a**7*w*e[1]*r[3] + 3*a**7*w*e[2]*r[3] - 3*a**7*conjugate(w)*e[1]*r[3] + 3*a**7*conjugate(w)*e[2]*r[3] + 3*a**7*conjugate(r[3])*e[1]*r[3] - 3*a**7*conjugate(r[3])*e[2]*r[3] - a**7*e[1]**2 - 3*a**7*e[1]*r[3]**2 + a**7*e[1] + a**7*e[2]**2 + 3*a**7*e[2]*r[3]**2 - a**7*e[2] - 3*a**6*w*conjugate(w)**3*r[3] + 3*a**6*w*conjugate(w)**2*conjugate(r[3])*r[3] - 3*a**6*w*conjugate(w)**2*e[1] - 3*a**6*w*conjugate(w)**2*e[2] + 3*a**6*w*conjugate(w)**2 + 2*a**6*w*conjugate(w)*conjugate(r[3])*e[1] + 2*a**6*w*conjugate(w)*conjugate(r[3])*e[2] - 2*a**6*w*conjugate(w)*conjugate(r[3]) - 3*a**6*w*conjugate(w)*r[3]**3 + 3*a**6*w*conjugate(r[3])*r[3]**3 + 3*a**6*w*r[3]**2 - 3*a**6*conjugate(w)**3*r[3]**2 + 3*a**6*conjugate(w)**2*conjugate(r[3])*r[3]**2 - 6*a**6*conjugate(w)**2*e[1]*r[3] - 6*a**6*conjugate(w)**2*e[2]*r[3] + 3*a**6*conjugate(w)**2*r[3] + 7*a**6*conjugate(w)*conjugate(r[3])*e[1]*r[3] + 7*a**6*conjugate(w)*conjugate(r[3])*e[2]*r[3] - 4*a**6*conjugate(w)*conjugate(r[3])*r[3] - 3*a**6*conjugate(w)*e[1]**2 - 6*a**6*conjugate(w)*e[1]*e[2] + 4*a**6*conjugate(w)*e[1] - 3*a**6*conjugate(w)*e[2]**2 + 4*a**6*conjugate(w)*e[2] - a**6*conjugate(w) + 2*a**6*conjugate(r[3])*e[1]**2 + 4*a**6*conjugate(r[3])*e[1]*e[2] - 3*a**6*conjugate(r[3])*e[1] + 2*a**6*conjugate(r[3])*e[2]**2 - 3*a**6*conjugate(r[3])*e[2] + a**6*conjugate(r[3]) + 3*a**6*e[1]**2*r[3] - 6*a**6*e[1]*e[2]*r[3] + 4*a**6*e[1]*r[3]**3 + 3*a**6*e[2]**2*r[3] + 4*a**6*e[2]*r[3]**3 - 3*a**6*r[3]**3 + 9*a**5*w*conjugate(w)**2*e[1]*r[3] - 9*a**5*w*conjugate(w)**2*e[2]*r[3] - 6*a**5*w*conjugate(w)*conjugate(r[3])*e[1]*r[3] + 6*a**5*w*conjugate(w)*conjugate(r[3])*e[2]*r[3] + 6*a**5*w*conjugate(w)*e[1]**2 - 6*a**5*w*conjugate(w)*e[1] - 6*a**5*w*conjugate(w)*e[2]**2 + 6*a**5*w*conjugate(w)*e[2] - 2*a**5*w*conjugate(r[3])*e[1]**2 + 2*a**5*w*conjugate(r[3])*e[1] + 2*a**5*w*conjugate(r[3])*e[2]**2 - 2*a**5*w*conjugate(r[3])*e[2] + 2*a**5*w*e[1]*r[3]**3 - 2*a**5*w*e[2]*r[3]**3 + 9*a**5*conjugate(w)**2*e[1]*r[3]**2 - 9*a**5*conjugate(w)**2*e[2]*r[3]**2 - 6*a**5*conjugate(w)*conjugate(r[3])*e[1]*r[3]**2 + 6*a**5*conjugate(w)*conjugate(r[3])*e[2]*r[3]**2 + 12*a**5*conjugate(w)*e[1]**2*r[3] + 3*a**5*conjugate(w)*e[1]*r[3]**3 - 6*a**5*conjugate(w)*e[1]*r[3] - 12*a**5*conjugate(w)*e[2]**2*r[3] - 3*a**5*conjugate(w)*e[2]*r[3]**3 + 6*a**5*conjugate(w)*e[2]*r[3] - 7*a**5*conjugate(r[3])*e[1]**2*r[3] - 3*a**5*conjugate(r[3])*e[1]*r[3]**3 + 4*a**5*conjugate(r[3])*e[1]*r[3] + 7*a**5*conjugate(r[3])*e[2]**2*r[3] + 3*a**5*conjugate(r[3])*e[2]*r[3]**3 - 4*a**5*conjugate(r[3])*e[2]*r[3] + 3*a**5*e[1]**3 + 3*a**5*e[1]**2*e[2] - 4*a**5*e[1]**2 - 3*a**5*e[1]*e[2]**2 - 3*a**5*e[1]*r[3]**2 + a**5*e[1] - 3*a**5*e[2]**3 + 4*a**5*e[2]**2 + 3*a**5*e[2]*r[3]**2 - a**5*e[2] + 3*a**4*w*conjugate(w)**3*r[3]**3 - 3*a**4*w*conjugate(w)**2*conjugate(r[3])*r[3]**3 - 9*a**4*w*conjugate(w)**2*r[3]**2 + 6*a**4*w*conjugate(w)*conjugate(r[3])*r[3]**2 - 12*a**4*w*conjugate(w)*e[1]**2*r[3] + 12*a**4*w*conjugate(w)*e[1]*e[2]*r[3] - 6*a**4*w*conjugate(w)*e[1]*r[3] - 12*a**4*w*conjugate(w)*e[2]**2*r[3] - 6*a**4*w*conjugate(w)*e[2]*r[3] + 9*a**4*w*conjugate(w)*r[3] + 4*a**4*w*conjugate(r[3])*e[1]**2*r[3] - 4*a**4*w*conjugate(r[3])*e[1]*e[2]*r[3] + 2*a**4*w*conjugate(r[3])*e[1]*r[3] + 4*a**4*w*conjugate(r[3])*e[2]**2*r[3] + 2*a**4*w*conjugate(r[3])*e[2]*r[3] - 3*a**4*w*conjugate(r[3])*r[3] - 3*a**4*w*e[1]**3 + 3*a**4*w*e[1]**2*e[2] + 3*a**4*w*e[1]*e[2]**2 - 12*a**4*w*e[1]*e[2] + 6*a**4*w*e[1] - 3*a**4*w*e[2]**3 + 6*a**4*w*e[2] - 3*a**4*w - 3*a**4*conjugate(w)**2*e[1]*r[3]**3 - 3*a**4*conjugate(w)**2*e[2]*r[3]**3 + 3*a**4*conjugate(w)**2*r[3]**3 - a**4*conjugate(w)*conjugate(r[3])*e[1]*r[3]**3 - a**4*conjugate(w)*conjugate(r[3])*e[2]*r[3]**3 - 15*a**4*conjugate(w)*e[1]**2*r[3]**2 + 6*a**4*conjugate(w)*e[1]*e[2]*r[3]**2 + 6*a**4*conjugate(w)*e[1]*r[3]**2 - 15*a**4*conjugate(w)*e[2]**2*r[3]**2 + 6*a**4*conjugate(w)*e[2]*r[3]**2 - 6*a**4*conjugate(w)*r[3]**2 + 5*a**4*conjugate(r[3])*e[1]**2*r[3]**2 - 2*a**4*conjugate(r[3])*e[1]*e[2]*r[3]**2 + a**4*conjugate(r[3])*e[1]*r[3]**2 + 5*a**4*conjugate(r[3])*e[2]**2*r[3]**2 + a**4*conjugate(r[3])*e[2]*r[3]**2 - 9*a**4*e[1]**3*r[3] - 3*a**4*e[1]**2*e[2]*r[3] - 2*a**4*e[1]**2*r[3]**3 + 8*a**4*e[1]**2*r[3] - 3*a**4*e[1]*e[2]**2*r[3] + 4*a**4*e[1]*e[2]*r[3]**3 + 4*a**4*e[1]*e[2]*r[3] - 5*a**4*e[1]*r[3] - 9*a**4*e[2]**3*r[3] - 2*a**4*e[2]**2*r[3]**3 + 8*a**4*e[2]**2*r[3] - 5*a**4*e[2]*r[3] + 3*a**4*r[3] - 6*a**3*w*conjugate(w)**2*e[1]*r[3]**3 + 6*a**3*w*conjugate(w)**2*e[2]*r[3]**3 + 4*a**3*w*conjugate(w)*conjugate(r[3])*e[1]*r[3]**3 - 4*a**3*w*conjugate(w)*conjugate(r[3])*e[2]*r[3]**3 + 6*a**3*w*conjugate(w)*e[1]**2*r[3]**2 + 12*a**3*w*conjugate(w)*e[1]*r[3]**2 - 6*a**3*w*conjugate(w)*e[2]**2*r[3]**2 - 12*a**3*w*conjugate(w)*e[2]*r[3]**2 - 2*a**3*w*conjugate(r[3])*e[1]**2*r[3]**2 - 4*a**3*w*conjugate(r[3])*e[1]*r[3]**2 + 2*a**3*w*conjugate(r[3])*e[2]**2*r[3]**2 + 4*a**3*w*conjugate(r[3])*e[2]*r[3]**2 + 9*a**3*w*e[1]**3*r[3] - 3*a**3*w*e[1]**2*e[2]*r[3] + 3*a**3*w*e[1]*e[2]**2*r[3] - 6*a**3*w*e[1]*r[3] - 9*a**3*w*e[2]**3*r[3] + 6*a**3*w*e[2]*r[3] + 6*a**3*conjugate(w)*e[1]**2*r[3]**3 - 4*a**3*conjugate(w)*e[1]*r[3]**3 - 6*a**3*conjugate(w)*e[2]**2*r[3]**3 + 4*a**3*conjugate(w)*e[2]*r[3]**3 + 9*a**3*e[1]**3*r[3]**2 - 3*a**3*e[1]**2*e[2]*r[3]**2 - 4*a**3*e[1]**2*r[3]**2 + 3*a**3*e[1]*e[2]**2*r[3]**2 + 4*a**3*e[1]*r[3]**2 - 9*a**3*e[2]**3*r[3]**2 + 4*a**3*e[2]**2*r[3]**2 - 4*a**3*e[2]*r[3]**2 - 12*a**2*w*conjugate(w)*e[1]*e[2]*r[3]**3 + 4*a**2*w*conjugate(r[3])*e[1]*e[2]*r[3]**3 - 9*a**2*w*e[1]**3*r[3]**2 - 3*a**2*w*e[1]**2*e[2]*r[3]**2 - 3*a**2*w*e[1]*e[2]**2*r[3]**2 + 12*a**2*w*e[1]*e[2]*r[3]**2 - 9*a**2*w*e[2]**3*r[3]**2 - 3*a**2*e[1]**3*r[3]**3 + 3*a**2*e[1]**2*e[2]*r[3]**3 + 3*a**2*e[1]*e[2]**2*r[3]**3 - 4*a**2*e[1]*e[2]*r[3]**3 - 3*a**2*e[2]**3*r[3]**3 + 3*a*w*e[1]**3*r[3]**3 + 3*a*w*e[1]**2*e[2]*r[3]**3 - 3*a*w*e[1]*e[2]**2*r[3]**3 - 3*a*w*e[2]**3*r[3]**3\n",
      "\n",
      "\n",
      "\n",
      "p_9=\n",
      "\n",
      " -3*a**8*w*conjugate(w)*r[3]**2 + 3*a**8*w*conjugate(r[3])*r[3]**2 - 2*a**8*w*e[1]*r[3] - 2*a**8*w*e[2]*r[3] + 2*a**8*w*r[3] - a**8*conjugate(w)*r[3]**3 + a**8*conjugate(r[3])*r[3]**3 + 2*a**8*e[1]*r[3]**2 + 2*a**8*e[2]*r[3]**2 - 2*a**8*r[3]**2 + 3*a**7*w*e[1]*r[3]**2 - 3*a**7*w*e[2]*r[3]**2 + 3*a**7*conjugate(w)*e[1]*r[3]**2 - 3*a**7*conjugate(w)*e[2]*r[3]**2 - 3*a**7*conjugate(r[3])*e[1]*r[3]**2 + 3*a**7*conjugate(r[3])*e[2]*r[3]**2 + 2*a**7*e[1]**2*r[3] + a**7*e[1]*r[3]**3 - 2*a**7*e[1]*r[3] - 2*a**7*e[2]**2*r[3] - a**7*e[2]*r[3]**3 + 2*a**7*e[2]*r[3] + 3*a**6*w*conjugate(w)**3*r[3]**2 - 3*a**6*w*conjugate(w)**2*conjugate(r[3])*r[3]**2 + 6*a**6*w*conjugate(w)**2*e[1]*r[3] + 6*a**6*w*conjugate(w)**2*e[2]*r[3] - 6*a**6*w*conjugate(w)**2*r[3] - 4*a**6*w*conjugate(w)*conjugate(r[3])*e[1]*r[3] - 4*a**6*w*conjugate(w)*conjugate(r[3])*e[2]*r[3] + 4*a**6*w*conjugate(w)*conjugate(r[3])*r[3] + 3*a**6*w*conjugate(w)*e[1]**2 + 6*a**6*w*conjugate(w)*e[1]*e[2] - 6*a**6*w*conjugate(w)*e[1] + 3*a**6*w*conjugate(w)*e[2]**2 - 6*a**6*w*conjugate(w)*e[2] + 3*a**6*w*conjugate(w) - a**6*w*conjugate(r[3])*e[1]**2 - 2*a**6*w*conjugate(r[3])*e[1]*e[2] + 2*a**6*w*conjugate(r[3])*e[1] - a**6*w*conjugate(r[3])*e[2]**2 + 2*a**6*w*conjugate(r[3])*e[2] - a**6*w*conjugate(r[3]) - a**6*w*e[1]*r[3]**3 - a**6*w*e[2]*r[3]**3 + a**6*conjugate(w)**3*r[3]**3 - a**6*conjugate(w)**2*conjugate(r[3])*r[3]**3 + 3*a**6*conjugate(w)**2*e[1]*r[3]**2 + 3*a**6*conjugate(w)**2*e[2]*r[3]**2 - 5*a**6*conjugate(w)*conjugate(r[3])*e[1]*r[3]**2 - 5*a**6*conjugate(w)*conjugate(r[3])*e[2]*r[3]**2 + 2*a**6*conjugate(w)*conjugate(r[3])*r[3]**2 + 3*a**6*conjugate(w)*e[1]**2*r[3] + 6*a**6*conjugate(w)*e[1]*e[2]*r[3] - 2*a**6*conjugate(w)*e[1]*r[3] + 3*a**6*conjugate(w)*e[2]**2*r[3] - 2*a**6*conjugate(w)*e[2]*r[3] - a**6*conjugate(w)*r[3] - 3*a**6*conjugate(r[3])*e[1]**2*r[3] - 6*a**6*conjugate(r[3])*e[1]*e[2]*r[3] + 4*a**6*conjugate(r[3])*e[1]*r[3] - 3*a**6*conjugate(r[3])*e[2]**2*r[3] + 4*a**6*conjugate(r[3])*e[2]*r[3] - a**6*conjugate(r[3])*r[3] + a**6*e[1]**3 + 3*a**6*e[1]**2*e[2] - 3*a**6*e[1]**2*r[3]**2 - 2*a**6*e[1]**2 + 3*a**6*e[1]*e[2]**2 + 6*a**6*e[1]*e[2]*r[3]**2 - 4*a**6*e[1]*e[2] + a**6*e[1] + a**6*e[2]**3 - 3*a**6*e[2]**2*r[3]**2 - 2*a**6*e[2]**2 + a**6*e[2] - 9*a**5*w*conjugate(w)**2*e[1]*r[3]**2 + 9*a**5*w*conjugate(w)**2*e[2]*r[3]**2 + 6*a**5*w*conjugate(w)*conjugate(r[3])*e[1]*r[3]**2 - 6*a**5*w*conjugate(w)*conjugate(r[3])*e[2]*r[3]**2 - 12*a**5*w*conjugate(w)*e[1]**2*r[3] + 12*a**5*w*conjugate(w)*e[1]*r[3] + 12*a**5*w*conjugate(w)*e[2]**2*r[3] - 12*a**5*w*conjugate(w)*e[2]*r[3] + 4*a**5*w*conjugate(r[3])*e[1]**2*r[3] - 4*a**5*w*conjugate(r[3])*e[1]*r[3] - 4*a**5*w*conjugate(r[3])*e[2]**2*r[3] + 4*a**5*w*conjugate(r[3])*e[2]*r[3] - 3*a**5*w*e[1]**3 - 3*a**5*w*e[1]**2*e[2] + 6*a**5*w*e[1]**2 + 3*a**5*w*e[1]*e[2]**2 - 3*a**5*w*e[1] + 3*a**5*w*e[2]**3 - 6*a**5*w*e[2]**2 + 3*a**5*w*e[2] - 3*a**5*conjugate(w)**2*e[1]*r[3]**3 + 3*a**5*conjugate(w)**2*e[2]*r[3]**3 + 2*a**5*conjugate(w)*conjugate(r[3])*e[1]*r[3]**3 - 2*a**5*conjugate(w)*conjugate(r[3])*e[2]*r[3]**3 - 6*a**5*conjugate(w)*e[1]**2*r[3]**2 + 6*a**5*conjugate(w)*e[2]**2*r[3]**2 + 5*a**5*conjugate(r[3])*e[1]**2*r[3]**2 - 2*a**5*conjugate(r[3])*e[1]*r[3]**2 - 5*a**5*conjugate(r[3])*e[2]**2*r[3]**2 + 2*a**5*conjugate(r[3])*e[2]*r[3]**2 - 3*a**5*e[1]**3*r[3] - 3*a**5*e[1]**2*e[2]*r[3] + a**5*e[1]**2*r[3]**3 + 2*a**5*e[1]**2*r[3] + 3*a**5*e[1]*e[2]**2*r[3] + a**5*e[1]*r[3] + 3*a**5*e[2]**3*r[3] - a**5*e[2]**2*r[3]**3 - 2*a**5*e[2]**2*r[3] - a**5*e[2]*r[3] + 3*a**4*w*conjugate(w)**2*e[1]*r[3]**3 + 3*a**4*w*conjugate(w)**2*e[2]*r[3]**3 - 2*a**4*w*conjugate(w)*conjugate(r[3])*e[1]*r[3]**3 - 2*a**4*w*conjugate(w)*conjugate(r[3])*e[2]*r[3]**3 + 15*a**4*w*conjugate(w)*e[1]**2*r[3]**2 - 6*a**4*w*conjugate(w)*e[1]*e[2]*r[3]**2 - 6*a**4*w*conjugate(w)*e[1]*r[3]**2 + 15*a**4*w*conjugate(w)*e[2]**2*r[3]**2 - 6*a**4*w*conjugate(w)*e[2]*r[3]**2 - 5*a**4*w*conjugate(r[3])*e[1]**2*r[3]**2 + 2*a**4*w*conjugate(r[3])*e[1]*e[2]*r[3]**2 + 2*a**4*w*conjugate(r[3])*e[1]*r[3]**2 - 5*a**4*w*conjugate(r[3])*e[2]**2*r[3]**2 + 2*a**4*w*conjugate(r[3])*e[2]*r[3]**2 + 9*a**4*w*e[1]**3*r[3] + 3*a**4*w*e[1]**2*e[2]*r[3] - 12*a**4*w*e[1]**2*r[3] + 3*a**4*w*e[1]*e[2]**2*r[3] + 3*a**4*w*e[1]*r[3] + 9*a**4*w*e[2]**3*r[3] - 12*a**4*w*e[2]**2*r[3] + 3*a**4*w*e[2]*r[3] + 3*a**4*conjugate(w)*e[1]**2*r[3]**3 - 6*a**4*conjugate(w)*e[1]*e[2]*r[3]**3 + 2*a**4*conjugate(w)*e[1]*r[3]**3 + 3*a**4*conjugate(w)*e[2]**2*r[3]**3 + 2*a**4*conjugate(w)*e[2]*r[3]**3 - 2*a**4*conjugate(r[3])*e[1]**2*r[3]**3 - 2*a**4*conjugate(r[3])*e[2]**2*r[3]**3 + 3*a**4*e[1]**3*r[3]**2 - 3*a**4*e[1]**2*e[2]*r[3]**2 + 2*a**4*e[1]**2*r[3]**2 - 3*a**4*e[1]*e[2]**2*r[3]**2 + 4*a**4*e[1]*e[2]*r[3]**2 - 2*a**4*e[1]*r[3]**2 + 3*a**4*e[2]**3*r[3]**2 + 2*a**4*e[2]**2*r[3]**2 - 2*a**4*e[2]*r[3]**2 - 6*a**3*w*conjugate(w)*e[1]**2*r[3]**3 + 6*a**3*w*conjugate(w)*e[2]**2*r[3]**3 + 2*a**3*w*conjugate(r[3])*e[1]**2*r[3]**3 - 2*a**3*w*conjugate(r[3])*e[2]**2*r[3]**3 - 9*a**3*w*e[1]**3*r[3]**2 + 3*a**3*w*e[1]**2*e[2]*r[3]**2 + 6*a**3*w*e[1]**2*r[3]**2 - 3*a**3*w*e[1]*e[2]**2*r[3]**2 + 9*a**3*w*e[2]**3*r[3]**2 - 6*a**3*w*e[2]**2*r[3]**2 - a**3*e[1]**3*r[3]**3 + 3*a**3*e[1]**2*e[2]*r[3]**3 - 2*a**3*e[1]**2*r[3]**3 - 3*a**3*e[1]*e[2]**2*r[3]**3 + a**3*e[2]**3*r[3]**3 + 2*a**3*e[2]**2*r[3]**3 + 3*a**2*w*e[1]**3*r[3]**3 - 3*a**2*w*e[1]**2*e[2]*r[3]**3 - 3*a**2*w*e[1]*e[2]**2*r[3]**3 + 3*a**2*w*e[2]**3*r[3]**3\n",
      "\n",
      "\n",
      "\n",
      "p_10=\n",
      "\n",
      " a**8*w*conjugate(w)*r[3]**3 - a**8*w*conjugate(r[3])*r[3]**3 + a**8*w*e[1]*r[3]**2 + a**8*w*e[2]*r[3]**2 - a**8*w*r[3]**2 - a**8*e[1]*r[3]**3 - a**8*e[2]*r[3]**3 + a**8*r[3]**3 - a**7*w*e[1]*r[3]**3 + a**7*w*e[2]*r[3]**3 - a**7*conjugate(w)*e[1]*r[3]**3 + a**7*conjugate(w)*e[2]*r[3]**3 + a**7*conjugate(r[3])*e[1]*r[3]**3 - a**7*conjugate(r[3])*e[2]*r[3]**3 - a**7*e[1]**2*r[3]**2 + a**7*e[1]*r[3]**2 + a**7*e[2]**2*r[3]**2 - a**7*e[2]*r[3]**2 - a**6*w*conjugate(w)**3*r[3]**3 + a**6*w*conjugate(w)**2*conjugate(r[3])*r[3]**3 - 3*a**6*w*conjugate(w)**2*e[1]*r[3]**2 - 3*a**6*w*conjugate(w)**2*e[2]*r[3]**2 + 3*a**6*w*conjugate(w)**2*r[3]**2 + 2*a**6*w*conjugate(w)*conjugate(r[3])*e[1]*r[3]**2 + 2*a**6*w*conjugate(w)*conjugate(r[3])*e[2]*r[3]**2 - 2*a**6*w*conjugate(w)*conjugate(r[3])*r[3]**2 - 3*a**6*w*conjugate(w)*e[1]**2*r[3] - 6*a**6*w*conjugate(w)*e[1]*e[2]*r[3] + 6*a**6*w*conjugate(w)*e[1]*r[3] - 3*a**6*w*conjugate(w)*e[2]**2*r[3] + 6*a**6*w*conjugate(w)*e[2]*r[3] - 3*a**6*w*conjugate(w)*r[3] + a**6*w*conjugate(r[3])*e[1]**2*r[3] + 2*a**6*w*conjugate(r[3])*e[1]*e[2]*r[3] - 2*a**6*w*conjugate(r[3])*e[1]*r[3] + a**6*w*conjugate(r[3])*e[2]**2*r[3] - 2*a**6*w*conjugate(r[3])*e[2]*r[3] + a**6*w*conjugate(r[3])*r[3] - a**6*w*e[1]**3 - 3*a**6*w*e[1]**2*e[2] + 3*a**6*w*e[1]**2 - 3*a**6*w*e[1]*e[2]**2 + 6*a**6*w*e[1]*e[2] - 3*a**6*w*e[1] - a**6*w*e[2]**3 + 3*a**6*w*e[2]**2 - 3*a**6*w*e[2] + a**6*w - a**6*conjugate(w)**2*r[3]**3 + a**6*conjugate(w)*conjugate(r[3])*e[1]*r[3]**3 + a**6*conjugate(w)*conjugate(r[3])*e[2]*r[3]**3 - 2*a**6*conjugate(w)*e[1]*r[3]**2 - 2*a**6*conjugate(w)*e[2]*r[3]**2 + 2*a**6*conjugate(w)*r[3]**2 + a**6*conjugate(r[3])*e[1]**2*r[3]**2 + 2*a**6*conjugate(r[3])*e[1]*e[2]*r[3]**2 - a**6*conjugate(r[3])*e[1]*r[3]**2 + a**6*conjugate(r[3])*e[2]**2*r[3]**2 - a**6*conjugate(r[3])*e[2]*r[3]**2 + a**6*e[1]**2*r[3]**3 - a**6*e[1]**2*r[3] - 2*a**6*e[1]*e[2]*r[3]**3 - 2*a**6*e[1]*e[2]*r[3] + 2*a**6*e[1]*r[3] + a**6*e[2]**2*r[3]**3 - a**6*e[2]**2*r[3] + 2*a**6*e[2]*r[3] - a**6*r[3] + 3*a**5*w*conjugate(w)**2*e[1]*r[3]**3 - 3*a**5*w*conjugate(w)**2*e[2]*r[3]**3 - 2*a**5*w*conjugate(w)*conjugate(r[3])*e[1]*r[3]**3 + 2*a**5*w*conjugate(w)*conjugate(r[3])*e[2]*r[3]**3 + 6*a**5*w*conjugate(w)*e[1]**2*r[3]**2 - 6*a**5*w*conjugate(w)*e[1]*r[3]**2 - 6*a**5*w*conjugate(w)*e[2]**2*r[3]**2 + 6*a**5*w*conjugate(w)*e[2]*r[3]**2 - 2*a**5*w*conjugate(r[3])*e[1]**2*r[3]**2 + 2*a**5*w*conjugate(r[3])*e[1]*r[3]**2 + 2*a**5*w*conjugate(r[3])*e[2]**2*r[3]**2 - 2*a**5*w*conjugate(r[3])*e[2]*r[3]**2 + 3*a**5*w*e[1]**3*r[3] + 3*a**5*w*e[1]**2*e[2]*r[3] - 6*a**5*w*e[1]**2*r[3] - 3*a**5*w*e[1]*e[2]**2*r[3] + 3*a**5*w*e[1]*r[3] - 3*a**5*w*e[2]**3*r[3] + 6*a**5*w*e[2]**2*r[3] - 3*a**5*w*e[2]*r[3] + 2*a**5*conjugate(w)*e[1]*r[3]**3 - 2*a**5*conjugate(w)*e[2]*r[3]**3 - a**5*conjugate(r[3])*e[1]**2*r[3]**3 + a**5*conjugate(r[3])*e[2]**2*r[3]**3 + 2*a**5*e[1]**2*r[3]**2 - 2*a**5*e[1]*r[3]**2 - 2*a**5*e[2]**2*r[3]**2 + 2*a**5*e[2]*r[3]**2 - 3*a**4*w*conjugate(w)*e[1]**2*r[3]**3 + 6*a**4*w*conjugate(w)*e[1]*e[2]*r[3]**3 - 3*a**4*w*conjugate(w)*e[2]**2*r[3]**3 + a**4*w*conjugate(r[3])*e[1]**2*r[3]**3 - 2*a**4*w*conjugate(r[3])*e[1]*e[2]*r[3]**3 + a**4*w*conjugate(r[3])*e[2]**2*r[3]**3 - 3*a**4*w*e[1]**3*r[3]**2 + 3*a**4*w*e[1]**2*e[2]*r[3]**2 + 3*a**4*w*e[1]**2*r[3]**2 + 3*a**4*w*e[1]*e[2]**2*r[3]**2 - 6*a**4*w*e[1]*e[2]*r[3]**2 - 3*a**4*w*e[2]**3*r[3]**2 + 3*a**4*w*e[2]**2*r[3]**2 - a**4*e[1]**2*r[3]**3 + 2*a**4*e[1]*e[2]*r[3]**3 - a**4*e[2]**2*r[3]**3 + a**3*w*e[1]**3*r[3]**3 - 3*a**3*w*e[1]**2*e[2]*r[3]**3 + 3*a**3*w*e[1]*e[2]**2*r[3]**3 - a**3*w*e[2]**3*r[3]**3\n",
      "\n",
      "\n",
      "\n"
     ]
    }
   ],
   "source": [
    "# Print coefficients starting with the highest power coefficient\n",
    "for i in range(N**2 + 2):\n",
    "    print(f\"p_{i}=\\n\\n\", str(coeffs[i]))\n",
    "    print(\"\\n\\n\")"
   ]
  },
  {
   "cell_type": "markdown",
   "id": "02efc1dd-3bd1-42f4-917b-51f09e4486ca",
   "metadata": {},
   "source": [
    "# Derivation of the polynomial coefficients for the critical/caustic curves"
   ]
  },
  {
   "cell_type": "markdown",
   "id": "e9f09c74-ec85-40a3-b5d2-b6f6f438f9a2",
   "metadata": {},
   "source": [
    "The critical curves are obtained by solving the following equation for the critical image positions $z$  \n",
    "\n",
    "$$\n",
    "\\sum_{i=1}^N\\frac{\\epsilon_i}{(\\bar{z}-\\bar{r}_i)^2}=e^{i\\phi}\n",
    "$$\n",
    "\n",
    "for each value of the parameter $\\phi=[0,2\\pi)$. Taking the complex conjugate of the above equation, we obtain\n",
    "\n",
    "$$\n",
    "\\sum_{i=1}^N\\frac{\\epsilon_i}{(z-r_i)^2}=e^{-i\\phi}\n",
    "$$\n",
    "\n",
    "Defining\n",
    "\n",
    "$$\n",
    "G' = \\sum_{j=1}^N\\epsilon_j\\prod_{i=1,\\;i\\neq j}^Nz^2_i\n",
    "$$\n",
    "\n",
    "$$\n",
    "H'= \\prod_{i=1}^Nz^2_i\n",
    "$$\n",
    "\n",
    "we have \n",
    "\n",
    "$$\n",
    "e^{-i\\phi}=\\frac{G'}{H'}\n",
    "$$\n",
    "\n",
    "and \n",
    "\n",
    "$$\n",
    "e^{-i\\phi}H' - G' = 0\n",
    "$$"
   ]
  },
  {
   "cell_type": "code",
   "execution_count": 14,
   "id": "b872b054-67f7-4fef-8c82-1237703ab78f",
   "metadata": {},
   "outputs": [],
   "source": [
    "def compute_polynomial_critical(N):\n",
    "    # Define symbols\n",
    "    z, w = symbols(['z', 'w'], complex=True)\n",
    "    r = IndexedBase('r', complex=True)\n",
    "    e = IndexedBase('e', positive=True)\n",
    "    i, j = symbols(['i', 'j'], integer=True)\n",
    "    a = symbols('a', positive=True)\n",
    "    phi = symbols('\\phi', real=True)\n",
    "\n",
    "    # Polynomial H'\n",
    "    H = Product((z - r[i])**2, (i, 1, N)).doit()\n",
    "    H = H.subs(r[1], a).subs(r[2], -a)\n",
    "    \n",
    "    # Polynomial G'\n",
    "    G = 0\n",
    "    for j in range(1, N + 1):\n",
    "        G += e[j]*prod([(z - r[i])**2 for i in range(1, N + 1) if i!=j])   \n",
    "    G = G.subs(r[1], a).subs(r[2], -a)\n",
    "    \n",
    "    # First term\n",
    "    i, j = symbols(['i', 'j'], integer=True)\n",
    "    \n",
    "    return Poly(exp(-I*phi)*H - G, z).all_coeffs()\n"
   ]
  },
  {
   "cell_type": "markdown",
   "id": "664375d9-ae1a-45ad-8690-4b8e1486f8d7",
   "metadata": {},
   "source": [
    "## N = 2"
   ]
  },
  {
   "cell_type": "code",
   "execution_count": 27,
   "id": "594de049-5fa4-4f3d-ac17-56c56635dee3",
   "metadata": {},
   "outputs": [],
   "source": [
    "N = 2\n",
    "coeffs = compute_polynomial_critical(N)\n",
    "e = IndexedBase('e', positive=True)\n",
    "coeffs = [expand(c.subs(e[2], 1-e[1])) for c in coeffs]"
   ]
  },
  {
   "cell_type": "code",
   "execution_count": 29,
   "id": "b38d9773-3600-49d2-bddd-cb6ef9705bb4",
   "metadata": {},
   "outputs": [
    {
     "name": "stdout",
     "output_type": "stream",
     "text": [
      "p_0 = exp(-I*\\phi)\n",
      "\n",
      "\n",
      "\n",
      "p_1 = 0\n",
      "\n",
      "\n",
      "\n",
      "p_2 = -2*a**2*exp(-I*\\phi) - 1\n",
      "\n",
      "\n",
      "\n",
      "p_3 = -4*a*e[1] + 2*a\n",
      "\n",
      "\n",
      "\n",
      "p_4 = a**4*exp(-I*\\phi) - a**2\n",
      "\n",
      "\n",
      "\n"
     ]
    }
   ],
   "source": [
    "# Print coefficients starting with the highest power coefficient\n",
    "for i in range(2*N + 1):\n",
    "    print(f\"p_{i} =\", str(coeffs[i]))\n",
    "    print(\"\\n\\n\")"
   ]
  },
  {
   "cell_type": "markdown",
   "id": "d53f5fb7-1dfd-47bd-972a-8d0b6d1a083f",
   "metadata": {},
   "source": [
    "## N = 3"
   ]
  },
  {
   "cell_type": "code",
   "execution_count": 32,
   "id": "48e5f22c-a398-449b-b974-eff0140ec949",
   "metadata": {},
   "outputs": [],
   "source": [
    "N = 3\n",
    "coeffs = compute_polynomial_critical(N)\n",
    "coeffs = [expand(c.subs(e[3], 1- e[1] - e[2])) for c in coeffs]"
   ]
  },
  {
   "cell_type": "code",
   "execution_count": 33,
   "id": "fd74621c-b300-466f-ae54-bad339157838",
   "metadata": {},
   "outputs": [
    {
     "name": "stdout",
     "output_type": "stream",
     "text": [
      "p_0 = exp(-I*\\phi)\n",
      "\n",
      "\n",
      "\n",
      "p_1 = -2*exp(-I*\\phi)*r[3]\n",
      "\n",
      "\n",
      "\n",
      "p_2 = -2*a**2*exp(-I*\\phi) - 1 + exp(-I*\\phi)*r[3]**2\n",
      "\n",
      "\n",
      "\n",
      "p_3 = 4*a**2*exp(-I*\\phi)*r[3] - 2*a*e[1] + 2*a*e[2] + 2*e[1]*r[3] + 2*e[2]*r[3]\n",
      "\n",
      "\n",
      "\n",
      "p_4 = a**4*exp(-I*\\phi) - 3*a**2*e[1] - 3*a**2*e[2] + 2*a**2 - 2*a**2*exp(-I*\\phi)*r[3]**2 + 4*a*e[1]*r[3] - 4*a*e[2]*r[3] - e[1]*r[3]**2 - e[2]*r[3]**2\n",
      "\n",
      "\n",
      "\n",
      "p_5 = -2*a**4*exp(-I*\\phi)*r[3] + 2*a**2*e[1]*r[3] + 2*a**2*e[2]*r[3] - 2*a*e[1]*r[3]**2 + 2*a*e[2]*r[3]**2\n",
      "\n",
      "\n",
      "\n",
      "p_6 = a**4*e[1] + a**4*e[2] - a**4 + a**4*exp(-I*\\phi)*r[3]**2 - a**2*e[1]*r[3]**2 - a**2*e[2]*r[3]**2\n",
      "\n",
      "\n",
      "\n"
     ]
    }
   ],
   "source": [
    "# Print coefficients starting with the highest power coefficient\n",
    "for i in range(2*N + 1):\n",
    "    print(f\"p_{i} =\", str(coeffs[i]))\n",
    "    print(\"\\n\\n\")"
   ]
  },
  {
   "cell_type": "code",
   "execution_count": null,
   "id": "f5d1bcfa-bb30-4105-8a52-e8aff735684a",
   "metadata": {},
   "outputs": [],
   "source": []
  }
 ],
 "metadata": {
  "kernelspec": {
   "display_name": "caustics)",
   "language": "python",
   "name": "caustics"
  },
  "language_info": {
   "codemirror_mode": {
    "name": "ipython",
    "version": 3
   },
   "file_extension": ".py",
   "mimetype": "text/x-python",
   "name": "python",
   "nbconvert_exporter": "python",
   "pygments_lexer": "ipython3",
   "version": "3.9.10"
  }
 },
 "nbformat": 4,
 "nbformat_minor": 5
}
